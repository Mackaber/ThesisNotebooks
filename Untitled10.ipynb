{
 "cells": [
  {
   "cell_type": "code",
   "execution_count": 26,
   "metadata": {},
   "outputs": [
    {
     "data": {
      "text/plain": [
       "test.scratchpad.User"
      ]
     },
     "execution_count": 26,
     "metadata": {},
     "output_type": "execute_result"
    }
   ],
   "source": [
    "package test.scratchpad;\n",
    "\n",
    "import java.util.Vector;\n",
    "import java.util.Collections;\n",
    "\n",
    "class User {\n",
    "    int level;\n",
    "    Vector<String> interests;\n",
    "    double part_prc;\n",
    "    double part_time;\n",
    "\n",
    "    public User(int level,Vector<String> interests, double part_prc, double part_time){\n",
    "        this.level = level;\n",
    "        this.interests = interests;\n",
    "        this.part_prc = part_prc;\n",
    "        this.part_time = part_time;\n",
    "    }\n",
    "\n",
    "    public Integer getLevel(){\n",
    "        return level;\n",
    "    }\n",
    "\n",
    "    @Override\n",
    "    public String toString() {\n",
    "        return \"[\" + level + \",\" + interests.toString() + \",\";\n",
    "    }\n",
    "}"
   ]
  },
  {
   "cell_type": "code",
   "execution_count": 28,
   "metadata": {},
   "outputs": [
    {
     "name": "stdout",
     "output_type": "stream",
     "text": [
      "[1,[Television, Photography, VideoGames],"
     ]
    },
    {
     "data": {
      "text/plain": [
       "null"
      ]
     },
     "execution_count": 28,
     "metadata": {},
     "output_type": "execute_result"
    }
   ],
   "source": [
    "package test.scratchpad;\n",
    "\n",
    "import java.util.Vector;\n",
    "\n",
    "Vector<String> interests = new Vector<>();\n",
    "interests.add(\"Television\");\n",
    "interests.add(\"Photography\");\n",
    "interests.add(\"VideoGames\");\n",
    "User user = new User(1,interests,7.48,22.77);\n",
    "\n",
    "System.out.print(user);"
   ]
  },
  {
   "cell_type": "code",
   "execution_count": 38,
   "metadata": {},
   "outputs": [
    {
     "ename": "cannot find symbol",
     "evalue": "cannot find symbol",
     "output_type": "error",
     "traceback": [
      "\u001b[1;31mcannot find symbol\u001b[0;0m",
      "\u001b[1;31m  symbol:   method add(int,test.scratchpad.User)\u001b[0;0m",
      "\u001b[1;31m  location: variable users of type java.util.HashMap<java.lang.Integer,test.scratchpad.User>\u001b[0;0m",
      "\u001b[1;31m users.add(1,new User(1,interests,7.48,2\u001b[0;0m",
      "\u001b[1;31m ^        ^                               \u001b[0;0m",
      "\u001b[1;31m\u001b[0;0m",
      "\u001b[1;31mcannot find symbol\u001b[0;0m",
      "\u001b[1;31m  symbol:   method add(int,test.scratchpad.User)\u001b[0;0m",
      "\u001b[1;31m  location: variable users of type java.util.HashMap<java.lang.Integer,test.scratchpad.User>\u001b[0;0m",
      "\u001b[1;31m users.add(2,new User(1,interests,7.48,2\u001b[0;0m",
      "\u001b[1;31m ^        ^                               \u001b[0;0m",
      "\u001b[1;31m\u001b[0;0m",
      "\u001b[1;31mcannot find symbol\u001b[0;0m",
      "\u001b[1;31m  symbol:   method add(int,test.scratchpad.User)\u001b[0;0m",
      "\u001b[1;31m  location: variable users of type java.util.HashMap<java.lang.Integer,test.scratchpad.User>\u001b[0;0m",
      "\u001b[1;31m users.add(3,new User(1,interests,7.48,2\u001b[0;0m",
      "\u001b[1;31m ^        ^                               \u001b[0;0m",
      "\u001b[1;31m\u001b[0;0m",
      "\u001b[1;31mcannot find symbol\u001b[0;0m",
      "\u001b[1;31m  symbol:   method add(int,test.scratchpad.User)\u001b[0;0m",
      "\u001b[1;31m  location: variable users of type java.util.HashMap<java.lang.Integer,test.scratchpad.User>\u001b[0;0m",
      "\u001b[1;31m users.add(4,new User(1,interests,7.48,2\u001b[0;0m",
      "\u001b[1;31m ^        ^                               \u001b[0;0m",
      "\u001b[1;31m\u001b[0;0m",
      "\u001b[1;31mcannot find symbol\u001b[0;0m",
      "\u001b[1;31m  symbol:   method add(int,test.scratchpad.User)\u001b[0;0m",
      "\u001b[1;31m  location: variable users of type java.util.HashMap<java.lang.Integer,test.scratchpad.User>\u001b[0;0m",
      "\u001b[1;31m users.add(5,new User(1,interests,7.48,2\u001b[0;0m",
      "\u001b[1;31m ^        ^                               \u001b[0;0m",
      "\u001b[1;31m\u001b[0;0m",
      "\u001b[1;31mcannot find symbol\u001b[0;0m",
      "\u001b[1;31m  symbol:   method add(int,test.scratchpad.User)\u001b[0;0m",
      "\u001b[1;31m  location: variable users of type java.util.HashMap<java.lang.Integer,test.scratchpad.User>\u001b[0;0m",
      "\u001b[1;31m users.add(6,new User(1,interests,7.48,2\u001b[0;0m",
      "\u001b[1;31m ^        ^                               \u001b[0;0m"
     ]
    }
   ],
   "source": [
    "package test.scratchpad;\n",
    "\n",
    "import java.util.Vector;\n",
    "import java.util.HashMap;\n",
    "\n",
    "Vector<String> interests = new Vector<>();\n",
    "interests.add(\"Television\");\n",
    "interests.add(\"Photography\");\n",
    "interests.add(\"VideoGames\");\n",
    "\n",
    "HashMap<Integer,User> users = new HashMap<Integer,User>();\n",
    "\n",
    "users.add(1,new User(1,interests,7.48,22.77));\n",
    "users.add(2,new User(1,interests,7.48,22.77));\n",
    "users.add(3,new User(1,interests,7.48,22.77));\n",
    "users.add(4,new User(1,interests,7.48,22.77));\n",
    "users.add(5,new User(1,interests,7.48,22.77));\n",
    "users.add(6,new User(1,interests,7.48,22.77));"
   ]
  },
  {
   "cell_type": "code",
   "execution_count": 54,
   "metadata": {},
   "outputs": [
    {
     "name": "stdout",
     "output_type": "stream",
     "text": [
      "0"
     ]
    },
    {
     "data": {
      "text/plain": [
       "null"
      ]
     },
     "execution_count": 54,
     "metadata": {},
     "output_type": "execute_result"
    }
   ],
   "source": [
    "int[] arr = {1,2,3,4,5,0,0,0};\n",
    "int[] new_ar = new int[4];\n",
    "new_ar = arr;\n",
    "\n",
    "System.out.print(new_ar[5]);"
   ]
  }
 ],
 "metadata": {
  "kernelspec": {
   "display_name": "Java",
   "language": "java",
   "name": "java"
  },
  "language_info": {
   "codemirror_mode": "text/x-java",
   "file_extension": ".java",
   "mimetype": "",
   "name": "Java",
   "nbconverter_exporter": "",
   "version": "1.8.0_121"
  }
 },
 "nbformat": 4,
 "nbformat_minor": 2
}
