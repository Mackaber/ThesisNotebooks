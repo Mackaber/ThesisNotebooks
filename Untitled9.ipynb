{
 "cells": [
  {
   "cell_type": "code",
   "execution_count": 1,
   "metadata": {},
   "outputs": [
    {
     "data": {
      "application/vnd.jupyter.widget-view+json": {
       "model_id": "",
       "version_major": 2,
       "version_minor": 0
      },
      "method": "display_data"
     },
     "metadata": {},
     "output_type": "display_data"
    },
    {
     "data": {
      "application/vnd.jupyter.widget-view+json": {
       "model_id": "3a0e67b1-ea3a-4eaa-bb79-dfb5833bd5af",
       "version_major": 2,
       "version_minor": 0
      },
      "method": "display_data"
     },
     "metadata": {},
     "output_type": "display_data"
    },
    {
     "data": {
      "application/vnd.jupyter.widget-view+json": {
       "model_id": "",
       "version_major": 2,
       "version_minor": 0
      },
      "method": "display_data"
     },
     "metadata": {},
     "output_type": "display_data"
    },
    {
     "data": {
      "application/vnd.jupyter.widget-view+json": {
       "model_id": "212099fa-772c-4da1-b126-0ef206ee7d5d",
       "version_major": 2,
       "version_minor": 0
      },
      "method": "display_data"
     },
     "metadata": {},
     "output_type": "display_data"
    },
    {
     "data": {
      "application/vnd.jupyter.widget-view+json": {
       "model_id": "",
       "version_major": 2,
       "version_minor": 0
      },
      "method": "display_data"
     },
     "metadata": {},
     "output_type": "display_data"
    },
    {
     "data": {
      "application/vnd.jupyter.widget-view+json": {
       "model_id": "",
       "version_major": 2,
       "version_minor": 0
      },
      "method": "display_data"
     },
     "metadata": {},
     "output_type": "display_data"
    },
    {
     "data": {
      "application/vnd.jupyter.widget-view+json": {
       "model_id": "b6fd36c8-423d-4a18-8050-694836182a25",
       "version_major": 2,
       "version_minor": 0
      },
      "method": "display_data"
     },
     "metadata": {},
     "output_type": "display_data"
    }
   ],
   "source": [
    "%classpath add mvn org.uma.jmetal jmetal-problem 5.5.2\n",
    "%classpath add mvn org.uma.jmetal jmetal-algorithm 5.5.2\n",
    "%classpath add mvn org.uma.jmetal jmetal-core 5.5.2\n",
    "%classpath add mvn org.uma.jmetal jmetal-exec 5.5.2"
   ]
  },
  {
   "cell_type": "code",
   "execution_count": 29,
   "metadata": {},
   "outputs": [
    {
     "data": {
      "text/plain": [
       "class java.util.Vector"
      ]
     },
     "execution_count": 29,
     "metadata": {},
     "output_type": "execute_result"
    }
   ],
   "source": [
    "Vector<Integer> vec = new Vector<Integer>()\n",
    "vec.add(1)\n",
    "vec.add(2)\n",
    "vec.add(3)\n",
    "vec.add(4)\n",
    "vec.add(5)\n",
    "\n",
    "vec.class"
   ]
  },
  {
   "cell_type": "code",
   "execution_count": 33,
   "metadata": {},
   "outputs": [
    {
     "ename": "You cannot create an instance from the abstract class 'org.uma.jmetal.solution.impl.AbstractGenericSolution'. @ line 3, column 7.",
     "evalue": "You cannot create an instance from the abstract class 'org.uma.jmetal.solution.impl.AbstractGenericSolution'. @ line 3, column 7.",
     "output_type": "error",
     "traceback": [
      "\u001b[1;31mYou cannot create an instance from the abstract class 'org.uma.jmetal.solution.impl.AbstractGenericSolution'. @ line 3, column 7.\u001b[0;0m",
      "\u001b[1;31m   sol = new AbstractGenericSolution()\u001b[0;0m",
      "\u001b[1;31m         ^\u001b[0;0m",
      "\u001b[1;31m\u001b[0;0m",
      "\u001b[1;31m1 error\u001b[0;0m",
      "\u001b[1;31m\u001b[0;0m",
      "\u001b[0;31m\tat com.twosigma.beakerx.groovy.evaluator.GroovyCodeRunner.call(GroovyCodeRunner.java:57)\u001b[0;0m",
      "\u001b[0;31m\tat com.twosigma.beakerx.groovy.evaluator.GroovyCodeRunner.call(GroovyCodeRunner.java:34)\u001b[0;0m"
     ]
    }
   ],
   "source": [
    "import org.uma.jmetal.solution.impl.AbstractGenericSolution;\n",
    "\n",
    "sol = new AbstractGenericSolution()"
   ]
  }
 ],
 "metadata": {
  "kernelspec": {
   "display_name": "Groovy",
   "language": "groovy",
   "name": "groovy"
  },
  "language_info": {
   "codemirror_mode": "groovy",
   "file_extension": ".groovy",
   "mimetype": "",
   "name": "Groovy",
   "nbconverter_exporter": "",
   "version": "2.4.3"
  }
 },
 "nbformat": 4,
 "nbformat_minor": 2
}
