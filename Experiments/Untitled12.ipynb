{
 "cells": [
  {
   "cell_type": "code",
   "execution_count": 30,
   "metadata": {},
   "outputs": [
    {
     "data": {
      "application/vnd.jupyter.widget-view+json": {
       "model_id": "7b7a0463-4251-484e-8269-e159b3aca15d",
       "version_major": 2,
       "version_minor": 0
      },
      "method": "display_data"
     },
     "metadata": {},
     "output_type": "display_data"
    }
   ],
   "source": [
    "%classpath add jar ../jMetal/Tesis/out/artifacts/Tesis_jar/Tesis.jar\n",
    "\n",
    "package me.mackaber.tesis;\n",
    "import me.mackaber.tesis.SingleObjective.*;\n",
    "import me.mackaber.tesis.ObjectiveFunctions.WeightedFunction;\n",
    "import me.mackaber.tesis.Util.User;\n",
    "import org.apache.commons.math3.stat.descriptive.moment.Mean;\n",
    "\n",
    "problem = new SingleObjectiveGrouping(\"../jMetal/Tesis/res/synthetic_10001.csv\");\n",
    "\n",
    "WeightedFunction function = new WeightedFunction(\"../jMetal/Tesis/res/custom_interests.json\");\n",
    "function.setW1(1.0); // Group Size\n",
    "function.setW2(1.0); // Interests\n",
    "function.setW3(1.0); // Level\n",
    "function.setW4(0.5); // Participation Style\n",
    "\n",
    "problem.setGroupSizeRange(5, 10)\n",
    "        .setObjectiveFunction(function)\n",
    "        .setCentralTendencyMeasure(new Mean())\n",
    "        .build();\n",
    "\n",
    "solution = problem.createSolution();\n",
    "problem.evaluate(solution)\n",
    "\n",
    "solution.getSampleSolution(2)"
   ]
  },
  {
   "cell_type": "code",
   "execution_count": 24,
   "metadata": {},
   "outputs": [
    {
     "data": {
      "application/vnd.jupyter.widget-view+json": {
       "model_id": "9ca60633-b46a-4a92-b12f-c72377b89b1a",
       "version_major": 2,
       "version_minor": 0
      },
      "method": "display_data"
     },
     "metadata": {},
     "output_type": "display_data"
    }
   ],
   "source": [
    "solution.getSampleSolution(2)"
   ]
  }
 ],
 "metadata": {
  "kernelspec": {
   "display_name": "Groovy",
   "language": "groovy",
   "name": "groovy"
  },
  "language_info": {
   "codemirror_mode": "groovy",
   "file_extension": ".groovy",
   "mimetype": "",
   "name": "Groovy",
   "nbconverter_exporter": "",
   "version": "2.4.3"
  },
  "toc": {
   "base_numbering": 1,
   "nav_menu": {},
   "number_sections": false,
   "sideBar": false,
   "skip_h1_title": false,
   "title_cell": "Table of Contents",
   "title_sidebar": "Contents",
   "toc_cell": false,
   "toc_position": {},
   "toc_section_display": false,
   "toc_window_display": false
  }
 },
 "nbformat": 4,
 "nbformat_minor": 2
}
