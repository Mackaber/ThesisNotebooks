{
 "cells": [
  {
   "cell_type": "code",
   "execution_count": 3,
   "metadata": {},
   "outputs": [
    {
     "data": {
      "application/vnd.jupyter.widget-view+json": {
       "model_id": "ed7e8a58-6992-484f-ad37-711b400fdbe4",
       "version_major": 2,
       "version_minor": 0
      },
      "method": "display_data"
     },
     "metadata": {},
     "output_type": "display_data"
    }
   ],
   "source": [
    "%classpath add jar ../jMetal/Tesis/out/artifacts/Tesis_jar/Tesis.jar\n",
    "\n",
    "package me.mackaber.tesis;\n",
    "import me.mackaber.tesis.SingleObjective.*;\n",
    "import me.mackaber.tesis.ObjectiveFunctions.WeightedFunction;\n",
    "import me.mackaber.tesis.Util.User;\n",
    "import org.apache.commons.math3.stat.descriptive.moment.Mean;\n",
    "\n",
    "problem = new SingleObjectiveGrouping(\"../jMetal/Tesis/res/synthetic_10001.csv\");\n",
    "\n",
    "WeightedFunction function = new WeightedFunction(\"../jMetal/Tesis/res/custom_interests.json\");\n",
    "function.setW1(1.0); // Group Size\n",
    "function.setW2(1.0); // Interests\n",
    "function.setW3(1.0); // Level\n",
    "function.setW4(1.0); // Participation Style\n",
    "\n",
    "problem.setGroupSizeRange(3, 6)\n",
    "        .setObjectiveFunction(function)\n",
    "        .setCentralTendencyMeasure(new Mean())\n",
    "        .build();\n",
    "\n",
    "solution = problem.createSolution();\n",
    "problem.evaluate(solution)\n",
    "\n",
    "solution.getSampleSolution(2)"
   ]
  },
  {
   "cell_type": "code",
   "execution_count": 15,
   "metadata": {},
   "outputs": [
    {
     "name": "stderr",
     "output_type": "stream",
     "text": [
      "2018-11-02 09:34:12.210 INFO: Fitness: 1.5703620106949472 [java_util_logging_Logger$info call]\n"
     ]
    },
    {
     "data": {
      "application/vnd.jupyter.widget-view+json": {
       "model_id": "35e82507-70f5-4be9-b34a-32308e5ec8ef",
       "version_major": 2,
       "version_minor": 0
      },
      "method": "display_data"
     },
     "metadata": {},
     "output_type": "display_data"
    }
   ],
   "source": [
    "import me.mackaber.tesis.Util.GroupSwapMutation;\n",
    "import org.uma.jmetal.util.JMetalLogger;\n",
    "import org.uma.jmetal.util.comparator.DominanceComparator;\n",
    "import org.uma.jmetal.operator.impl.localsearch.BasicLocalSearch;\n",
    "\n",
    "mutationOperator = new GroupSwapMutation<>(0.02, problem);\n",
    "\n",
    "improvementRounds = 10;\n",
    "\n",
    "comparator = new DominanceComparator<>(0);\n",
    "\n",
    "localSearch = new BasicLocalSearch<>(\n",
    "        improvementRounds,\n",
    "        mutationOperator,\n",
    "        comparator,\n",
    "        problem);\n",
    "\n",
    "solution = problem.createSolution();\n",
    "problem.evaluate(solution);\n",
    "newSolution = localSearch.execute(solution);\n",
    "\n",
    "JMetalLogger.logger.info(\"Fitness: \" + newSolution.getObjective(0));\n",
    "\n",
    "newSolution.getSampleSolution(1)"
   ]
  },
  {
   "cell_type": "code",
   "execution_count": 17,
   "metadata": {},
   "outputs": [
    {
     "name": "stderr",
     "output_type": "stream",
     "text": [
      "2018-11-02 09:34:58.666 INFO: Fitness: 1.5703620106949472 [java_util_logging_Logger$info call]\n"
     ]
    },
    {
     "data": {
      "application/vnd.jupyter.widget-view+json": {
       "model_id": "4dcca533-5ee5-4d97-b3f2-ae66ea47e637",
       "version_major": 2,
       "version_minor": 0
      },
      "method": "display_data"
     },
     "metadata": {},
     "output_type": "display_data"
    }
   ],
   "source": [
    "import org.uma.jmetal.util.JMetalLogger;\n",
    "solution = newSolution;\n",
    "problem.evaluate(solution);\n",
    "newSolution = localSearch.execute(solution);\n",
    "\n",
    "JMetalLogger.logger.info(\"Fitness: \" + newSolution.getObjective(0));\n",
    "newSolution.getSampleSolution(4)"
   ]
  },
  {
   "cell_type": "code",
   "execution_count": 21,
   "metadata": {},
   "outputs": [
    {
     "data": {
      "application/vnd.jupyter.widget-view+json": {
       "model_id": "fd9c58ea-3034-490d-aae0-8124f8d9cbab",
       "version_major": 2,
       "version_minor": 0
      },
      "method": "display_data"
     },
     "metadata": {},
     "output_type": "display_data"
    }
   ],
   "source": [
    "plot = new Plot(title: \"Local Search\", initHeight: 200)\n",
    "\n",
    "results = []\n",
    "\n",
    "for(int i = 0; i<10;i++) {\n",
    "    problem.evaluate(solution);\n",
    "    results << solution.getObjective(0);\n",
    "    newSolution = localSearch.execute(solution);    \n",
    "}\n",
    "\n",
    "plot << new Line(y: results, width: 1, color: Color.green)"
   ]
  }
 ],
 "metadata": {
  "kernelspec": {
   "display_name": "Groovy",
   "language": "groovy",
   "name": "groovy"
  },
  "language_info": {
   "codemirror_mode": "groovy",
   "file_extension": ".groovy",
   "mimetype": "",
   "name": "Groovy",
   "nbconverter_exporter": "",
   "version": "2.4.3"
  },
  "toc": {
   "base_numbering": 1,
   "nav_menu": {},
   "number_sections": false,
   "sideBar": false,
   "skip_h1_title": false,
   "title_cell": "Table of Contents",
   "title_sidebar": "Contents",
   "toc_cell": false,
   "toc_position": {},
   "toc_section_display": false,
   "toc_window_display": false
  }
 },
 "nbformat": 4,
 "nbformat_minor": 2
}
