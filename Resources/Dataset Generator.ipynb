{
 "cells": [
  {
   "cell_type": "code",
   "execution_count": 1,
   "metadata": {},
   "outputs": [
    {
     "name": "stdout",
     "output_type": "stream",
     "text": [
      "10.632391415834455\n",
      "5.792821400919538\n",
      "\n",
      "16.898944217379906\n",
      "9.964369841384496\n"
     ]
    }
   ],
   "source": [
    "require 'pickup'\n",
    "require 'csv'\n",
    "require 'descriptive_statistics'\n",
    "require 'distribution'\n",
    "require 'random_variate_generator'\n",
    "\n",
    "def get_distr\n",
    "  hash = {}\n",
    "  CSV.foreach(\"parsed.csv\") do |row|\n",
    "    hash.merge!({ :\"#{row[0]}\" => row[1].to_i })\n",
    "  end\n",
    "  return hash\n",
    "end\n",
    "\n",
    "size = 10000\n",
    "\n",
    "header = <<EOF\n",
    "NAME: synthtetic_dataset\n",
    "TYPE: LG\n",
    "COMMENT: Level Grouping\n",
    "DIMENSION: #{size}\n",
    "NODE_COORD_SECTION\n",
    "EOF\n",
    "\n",
    "level_distribution = {\n",
    "  \"0\": 33,    # A0\n",
    "  \"1\": 33,    # A1\n",
    "  \"2\": 33,    # A2\n",
    "  \"3\": 1300,  # B1\n",
    "  \"4\": 4800,  # B2\n",
    "  \"5\": 3600,  # C1\n",
    "  \"6\": 200    # C2\n",
    "}\n",
    "\n",
    "interest_distribution = get_distr()\n",
    "\n",
    "def calc(personality,pers)\n",
    "  #dn = Distribution::Normal.rng(personality[pers][:prob],personality[pers][:sd])\n",
    "  #dn.call\n",
    "  rand(personality[pers][:prob] - (personality[pers][:sd]*2)..personality[pers][:prob] + (personality[pers][:sd]*2))\n",
    "end\n",
    "\n",
    "level = Pickup.new(level_distribution)\n",
    "interests = Pickup.new(interest_distribution, uniq: true) # El uniq es para que no se repitan los intereses...\n",
    "participation_style = Pickup.new(participation_style)\n",
    "\n",
    "vals_1 = []\n",
    "vals_2 = []\n",
    "\n",
    "def dn_val(fn)\n",
    "  v = fn.call\n",
    "  while(v < 0)\n",
    "    v = fn.call\n",
    "  end\n",
    "  return v\n",
    "end\n",
    "\n",
    "File.open(\"synthetic.csv\",\"w\") do |csv|\n",
    "  File.open(\"synthtetic_dataset.lg\",\"w\") do |file|\n",
    "    file.puts header\n",
    "     dn_prot = Distribution::Normal.rng(9.67,6.66)\n",
    "     dn_prot_time = Distribution::Normal.rng(14.08,12.11)\n",
    "     #dn =  rand((9.84 - 9.30)..(9.84 + 9.30))\n",
    "     #dn = RandomVariateGenerator::PoissonVariate.new(lambda: 3)\n",
    "    for i in 0..size\n",
    "      lvl = level.pick(1)\n",
    "      intrst = interests.pick(3).join(',')\n",
    "      protagonism = dn_val(dn_prot)\n",
    "      protagonism_time = dn_val(dn_prot_time)\n",
    "      vals_1 << protagonism\n",
    "      vals_2 << protagonism_time\n",
    "      csv.puts  \"#{i},#{lvl},#{intrst},#{protagonism},#{protagonism_time}\"\n",
    "      file.puts \"#{i} #{lvl} [#{intrst}] #{protagonism} #{protagonism_time}\"\n",
    "    end\n",
    "  end\n",
    "end\n",
    "\n",
    "File.read(\"synthtetic_dataset.lg\")\n",
    "puts vals_1.mean\n",
    "puts vals_1.standard_deviation\n",
    "puts \"\"\n",
    "puts vals_2.mean\n",
    "puts vals_2.standard_deviation"
   ]
  },
  {
   "cell_type": "code",
   "execution_count": 10,
   "metadata": {},
   "outputs": [
    {
     "data": {
      "text/plain": [
       "3"
      ]
     },
     "execution_count": 10,
     "metadata": {},
     "output_type": "execute_result"
    }
   ],
   "source": [
    "ar = [\"Test\",1,2]\n",
    "ar2 = [\"Test2\",1,2]\n",
    "\n",
    "obj = {}\n",
    "\n",
    "obj.merge!({:\"#{ar[0]}\" => ar[2]})\n",
    "obj.merge!({:\"#{ar2[0]}\" => ar2[2]})\n",
    "obj\n",
    "\n",
    "\"3\".to_i"
   ]
  },
  {
   "cell_type": "code",
   "execution_count": 5,
   "metadata": {},
   "outputs": [
    {
     "data": {
      "text/plain": [
       "\"cos,cus\""
      ]
     },
     "execution_count": 5,
     "metadata": {},
     "output_type": "execute_result"
    }
   ],
   "source": [
    "foo = {\"cos\": 1,\"cas\": 2,\"cus\": 3}\n",
    "nose = Pickup.new(foo)\n",
    "\n",
    "nose.pick(2).join(\",\")"
   ]
  },
  {
   "cell_type": "code",
   "execution_count": 49,
   "metadata": {},
   "outputs": [
    {
     "data": {
      "text/plain": [
       "50.91070845284991"
      ]
     },
     "execution_count": 49,
     "metadata": {},
     "output_type": "execute_result"
    }
   ],
   "source": [
    "personality = {\n",
    "   :\"Extraversion\" =>     { :prob => 50.24,  :sd =>  9.47  },\n",
    "   :\"Agreebleness\" =>     { :prob => 49.51,  :sd =>  10.88 },\n",
    "   :\"Conscientiousnes\" => { :prob => 45.72,  :sd =>  11.66 },\n",
    "   :\"Neuroticism\" =>      { :prob => 48.0 ,  :sd =>  9.52  },\n",
    "   :\"Openness\" =>         { :prob => 52.26,  :sd =>  10.94 }\n",
    "}\n",
    "\n",
    "\n",
    "def calc(personality,pers)\n",
    "  rand(personality[pers][:prob] - Math.sqrt(personality[pers][:sd])..personality[pers][:prob] + Math.sqrt(personality[pers][:sd]))\n",
    "end\n",
    "\n",
    "personality[:\"Extraversion\"][:prob]\n",
    "calc(personality,:\"Extraversion\")"
   ]
  },
  {
   "cell_type": "code",
   "execution_count": 13,
   "metadata": {},
   "outputs": [
    {
     "data": {
      "text/plain": [
       "{:f=>{:g=>5.0, :h=>3.0}, :V=>{:b=>3.0, :j=>2.0}}"
      ]
     },
     "execution_count": 13,
     "metadata": {},
     "output_type": "execute_result"
    }
   ],
   "source": [
    "{:f => { :g => 5.0, :h => 3.0 },\n",
    ":\"V\" => {:b => 3.0, :j => 2.0} }"
   ]
  },
  {
   "cell_type": "code",
   "execution_count": 48,
   "metadata": {},
   "outputs": [
    {
     "data": {
      "text/plain": [
       "3.0"
      ]
     },
     "execution_count": 48,
     "metadata": {},
     "output_type": "execute_result"
    }
   ],
   "source": [
    "Math.sqrt(9)"
   ]
  },
  {
   "cell_type": "code",
   "execution_count": 15,
   "metadata": {},
   "outputs": [
    {
     "data": {
      "text/plain": [
       "57.74156225202984"
      ]
     },
     "execution_count": 15,
     "metadata": {},
     "output_type": "execute_result"
    }
   ],
   "source": [
    "dn = Distribution::Normal.rng(50.24,9.47)\n",
    "dn.call\n",
    "\n",
    "abso"
   ]
  }
 ],
 "metadata": {
  "kernelspec": {
   "display_name": "Ruby 2.4.1",
   "language": "ruby",
   "name": "ruby"
  },
  "language_info": {
   "file_extension": ".rb",
   "mimetype": "application/x-ruby",
   "name": "ruby",
   "version": "2.4.1"
  }
 },
 "nbformat": 4,
 "nbformat_minor": 2
}
