{
 "cells": [
  {
   "cell_type": "code",
   "execution_count": 119,
   "metadata": {},
   "outputs": [],
   "source": [
    "import csv\n",
    "#import statistics as stats\n",
    "import random as rnd\n",
    "import scipy.stats"
   ]
  },
  {
   "cell_type": "code",
   "execution_count": 103,
   "metadata": {},
   "outputs": [],
   "source": [
    "with open(\"synthetic.csv\", newline='') as csvfile:\n",
    "    users = []\n",
    "    file = csv.reader(csvfile, delimiter=',', quotechar='|')\n",
    "    for row in file:\n",
    "        users.append({\"id\": row[0], \"level\": row[1], \"interests\": [row[2],row[3],row[4]], \"part_prc\": row[5], \"part_time_prc\": row[6]})\n",
    "\n",
    "# Random grouping n=size of the group\n",
    "def random_grouping(n,users):\n",
    "    pool = users\n",
    "    groups = []\n",
    "    for i in range(int(len(users)/n)):\n",
    "        groups.append([])\n",
    "        for j in range(n):\n",
    "            user = rnd.choice(pool)\n",
    "            groups[i].append(user)\n",
    "            pool.remove(user) \n",
    "    return groups\n",
    "        \n",
    "groups = random_grouping(4,users)"
   ]
  },
  {
   "cell_type": "code",
   "execution_count": 111,
   "metadata": {},
   "outputs": [],
   "source": [
    "# Mathematical Average\n",
    "\n",
    "def ari_mean(vals):\n",
    "    return stats.mean(vals)\n",
    "\n",
    "def geo_mean():\n",
    "    pass\n",
    "\n",
    "def har_mean():\n",
    "    pass\n",
    "\n",
    "# Locational Average\n",
    "\n",
    "def mode():\n",
    "    pass\n",
    "\n",
    "# Partition values\n",
    "\n",
    "def median(vals):\n",
    "    return stats.median(vals)\n",
    "\n",
    "def quartiles():\n",
    "    pass\n",
    "\n",
    "def deciles():\n",
    "    pass\n",
    "\n",
    "def percentiles():\n",
    "    pass\n",
    "\n",
    "\n",
    "def calc(fn,users):\n",
    "    values = []\n",
    "    for usr in users:\n",
    "        values.append(float(usr[\"part_prc\"]))\n",
    "    return fn(values)"
   ]
  },
  {
   "cell_type": "code",
   "execution_count": 118,
   "metadata": {},
   "outputs": [
    {
     "data": {
      "text/plain": [
       "[{'id': '5282',\n",
       "  'level': '4',\n",
       "  'interests': [' Restaurants', 'Pets', 'Politics and social issues'],\n",
       "  'part_prc': ' 2.5205712409161425',\n",
       "  'part_time_prc': ' 31.62199594265666'},\n",
       " {'id': '7917',\n",
       "  'level': '3',\n",
       "  'interests': [' Television programme', 'TV chat shows', 'TV comedies'],\n",
       "  'part_prc': ' 13.577701261463234',\n",
       "  'part_time_prc': ' 32.29134432382441'},\n",
       " {'id': '7159',\n",
       "  'level': '4',\n",
       "  'interests': [' Music', 'Blues music', 'Restaurants'],\n",
       "  'part_prc': ' 6.556407017715862',\n",
       "  'part_time_prc': ' 7.796492970773635'},\n",
       " {'id': '4866',\n",
       "  'level': '5',\n",
       "  'interests': [' Television programme', 'TV chat shows', 'Arts and music'],\n",
       "  'part_prc': ' 21.43290697492226',\n",
       "  'part_time_prc': ' 21.55811104708578'}]"
      ]
     },
     "execution_count": 118,
     "metadata": {},
     "output_type": "execute_result"
    }
   ],
   "source": [
    "groups[1]"
   ]
  },
  {
   "cell_type": "code",
   "execution_count": 116,
   "metadata": {},
   "outputs": [
    {
     "data": {
      "text/plain": [
       "10.067054139589548"
      ]
     },
     "execution_count": 116,
     "metadata": {},
     "output_type": "execute_result"
    }
   ],
   "source": [
    "calc(median,groups[1])"
   ]
  },
  {
   "cell_type": "code",
   "execution_count": 96,
   "metadata": {},
   "outputs": [
    {
     "data": {
      "text/plain": [
       "['Decimal',\n",
       " 'Fraction',\n",
       " 'StatisticsError',\n",
       " '__all__',\n",
       " '__builtins__',\n",
       " '__cached__',\n",
       " '__doc__',\n",
       " '__file__',\n",
       " '__loader__',\n",
       " '__name__',\n",
       " '__package__',\n",
       " '__spec__',\n",
       " '_coerce',\n",
       " '_convert',\n",
       " '_counts',\n",
       " '_exact_ratio',\n",
       " '_fail_neg',\n",
       " '_find_lteq',\n",
       " '_find_rteq',\n",
       " '_isfinite',\n",
       " '_ss',\n",
       " '_sum',\n",
       " 'bisect_left',\n",
       " 'bisect_right',\n",
       " 'chain',\n",
       " 'collections',\n",
       " 'decimal',\n",
       " 'groupby',\n",
       " 'harmonic_mean',\n",
       " 'math',\n",
       " 'mean',\n",
       " 'median',\n",
       " 'median_grouped',\n",
       " 'median_high',\n",
       " 'median_low',\n",
       " 'mode',\n",
       " 'numbers',\n",
       " 'pstdev',\n",
       " 'pvariance',\n",
       " 'stdev',\n",
       " 'variance']"
      ]
     },
     "execution_count": 96,
     "metadata": {},
     "output_type": "execute_result"
    }
   ],
   "source": [
    "dir(stats)"
   ]
  }
 ],
 "metadata": {
  "kernelspec": {
   "display_name": "Python 3",
   "language": "python",
   "name": "python3"
  },
  "language_info": {
   "codemirror_mode": {
    "name": "ipython",
    "version": 3
   },
   "file_extension": ".py",
   "mimetype": "text/x-python",
   "name": "python",
   "nbconvert_exporter": "python",
   "pygments_lexer": "ipython3",
   "version": "3.6.5"
  }
 },
 "nbformat": 4,
 "nbformat_minor": 2
}
