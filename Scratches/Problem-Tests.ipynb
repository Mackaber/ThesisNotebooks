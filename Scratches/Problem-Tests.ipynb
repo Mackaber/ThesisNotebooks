{
 "cells": [
  {
   "cell_type": "code",
   "execution_count": 1,
   "metadata": {},
   "outputs": [
    {
     "data": {
      "application/vnd.jupyter.widget-view+json": {
       "model_id": "",
       "version_major": 2,
       "version_minor": 0
      },
      "method": "display_data"
     },
     "metadata": {},
     "output_type": "display_data"
    },
    {
     "data": {
      "application/vnd.jupyter.widget-view+json": {
       "model_id": "54ed635a-9848-4181-99a8-d03551388416",
       "version_major": 2,
       "version_minor": 0
      },
      "method": "display_data"
     },
     "metadata": {},
     "output_type": "display_data"
    },
    {
     "data": {
      "application/vnd.jupyter.widget-view+json": {
       "model_id": "",
       "version_major": 2,
       "version_minor": 0
      },
      "method": "display_data"
     },
     "metadata": {},
     "output_type": "display_data"
    },
    {
     "data": {
      "application/vnd.jupyter.widget-view+json": {
       "model_id": "4930397a-9f9d-4d03-8603-d7b5b6f73cf2",
       "version_major": 2,
       "version_minor": 0
      },
      "method": "display_data"
     },
     "metadata": {},
     "output_type": "display_data"
    },
    {
     "data": {
      "application/vnd.jupyter.widget-view+json": {
       "model_id": "",
       "version_major": 2,
       "version_minor": 0
      },
      "method": "display_data"
     },
     "metadata": {},
     "output_type": "display_data"
    },
    {
     "data": {
      "application/vnd.jupyter.widget-view+json": {
       "model_id": "",
       "version_major": 2,
       "version_minor": 0
      },
      "method": "display_data"
     },
     "metadata": {},
     "output_type": "display_data"
    },
    {
     "data": {
      "application/vnd.jupyter.widget-view+json": {
       "model_id": "9ee703bf-dc23-4b1a-94eb-1ee689552e7f",
       "version_major": 2,
       "version_minor": 0
      },
      "method": "display_data"
     },
     "metadata": {},
     "output_type": "display_data"
    },
    {
     "data": {
      "application/vnd.jupyter.widget-view+json": {
       "model_id": "",
       "version_major": 2,
       "version_minor": 0
      },
      "method": "display_data"
     },
     "metadata": {},
     "output_type": "display_data"
    },
    {
     "data": {
      "application/vnd.jupyter.widget-view+json": {
       "model_id": "a41d73b2-b870-4b7e-b936-04cf2ff8d3da",
       "version_major": 2,
       "version_minor": 0
      },
      "method": "display_data"
     },
     "metadata": {},
     "output_type": "display_data"
    },
    {
     "data": {
      "application/vnd.jupyter.widget-view+json": {
       "model_id": "",
       "version_major": 2,
       "version_minor": 0
      },
      "method": "display_data"
     },
     "metadata": {},
     "output_type": "display_data"
    },
    {
     "data": {
      "application/vnd.jupyter.widget-view+json": {
       "model_id": "1f3d556d-40c1-4d68-bc23-eb814fbe155f",
       "version_major": 2,
       "version_minor": 0
      },
      "method": "display_data"
     },
     "metadata": {},
     "output_type": "display_data"
    },
    {
     "data": {
      "application/vnd.jupyter.widget-view+json": {
       "model_id": "",
       "version_major": 2,
       "version_minor": 0
      },
      "method": "display_data"
     },
     "metadata": {},
     "output_type": "display_data"
    },
    {
     "data": {
      "application/vnd.jupyter.widget-view+json": {
       "model_id": "e8aa4bb4-802f-4e86-b994-1c6e4f4136e9",
       "version_major": 2,
       "version_minor": 0
      },
      "method": "display_data"
     },
     "metadata": {},
     "output_type": "display_data"
    }
   ],
   "source": [
    "%classpath add mvn org.uma.jmetal jmetal-problem 5.5.2\n",
    "%classpath add mvn org.uma.jmetal jmetal-algorithm 5.5.2\n",
    "%classpath add mvn org.uma.jmetal jmetal-core 5.5.2\n",
    "%classpath add mvn org.uma.jmetal jmetal-exec 5.5.2\n",
    "\n",
    "%classpath add mvn org.apache.commons commons-math3 3.2\n",
    "%classpath add mvn org.apache.commons commons-lang3 3.7\n",
    "%classpath add mvn org.json json 20180130"
   ]
  },
  {
   "cell_type": "code",
   "execution_count": 8,
   "metadata": {},
   "outputs": [
    {
     "data": {
      "text/plain": [
       "{\"JSON\":\"Hello, World!\"}"
      ]
     },
     "execution_count": 8,
     "metadata": {},
     "output_type": "execute_result"
    }
   ],
   "source": [
    "import org.json.JSONObject\n",
    "myString = new JSONObject()\n",
    "         .put(\"JSON\", \"Hello, World!\").toString();"
   ]
  },
  {
   "cell_type": "code",
   "execution_count": 36,
   "metadata": {},
   "outputs": [
    {
     "data": {
      "text/plain": [
       "null"
      ]
     },
     "execution_count": 36,
     "metadata": {},
     "output_type": "execute_result"
    }
   ],
   "source": [
    "public class Tree {\n",
    "    private Node root;\n",
    "\n",
    "    private int findLevel(Node root, int k, int level) {\n",
    "\t\t// Base Case\n",
    "\t\tif (root == null)\n",
    "\t\t\treturn -1;\n",
    "\t\t\n",
    "\t\t// If key is present at root, or in left subtree or right subtree,\n",
    "\t\t// return true;\n",
    "\t\tif (root.key == k)\n",
    "\t\t\treturn level;\n",
    "\t\t\t\n",
    "\t\tint l = findLevel(root.left, k, level + 1);\n",
    "\t\treturn (l != -1)? l : findLevel(root.right, k, level + 1);\n",
    "\t}\n",
    "    \n",
    "    \n",
    "    public void getDistance(String node1,String node2) {\n",
    "        findLevel(root, node1)\n",
    "    }\n",
    "    \n",
    "    private class Node {\n",
    "        private String value;\n",
    "        private Node parent;\n",
    "        private List<Node> children;\n",
    "\n",
    "        public List<Node> getChildren() {\n",
    "            return children;\n",
    "        }\n",
    "\n",
    "        public void addChild(Node node) {\n",
    "            this.children.add(node);\n",
    "        }\n",
    "\n",
    "        public Node getParent() {\n",
    "            return parent;\n",
    "        }\n",
    "\n",
    "        public void setParent(Node parent) {\n",
    "            this.parent = parent;\n",
    "        }\n",
    "\n",
    "        public String getValue() {\n",
    "            return value;\n",
    "        }\n",
    "\n",
    "        public void setValue(String value) {\n",
    "            this.value = value;\n",
    "        }\n",
    "    }\n",
    "}\n",
    "\n"
   ]
  },
  {
   "cell_type": "code",
   "execution_count": null,
   "metadata": {},
   "outputs": [],
   "source": [
    "import org.apache.commons.math3.stat.descriptive.moment.StandardDeviation\n",
    "    \n",
    "double[] z = [7.0,4.5]\n",
    "z.class\n",
    "sd = new StandardDeviation()\n",
    "sd.evaluate(z)\n",
    "sd.evaluate(z)\n",
    "sd.getResult()"
   ]
  },
  {
   "cell_type": "code",
   "execution_count": 201,
   "metadata": {},
   "outputs": [
    {
     "data": {
      "text/plain": [
       "[[1, 2, 3, 4, 14], [5, 6, 7, 8], [9, 10, 11, 12, 13]]"
      ]
     },
     "execution_count": 201,
     "metadata": {},
     "output_type": "execute_result"
    }
   ],
   "source": [
    "import org.apache.commons.lang3.ArrayUtils;\n",
    "\n",
    "int[][] splitGroups(int[] arr,int gsz) {\n",
    "  int len = arr.length;\n",
    "  int counter = 0;\n",
    "  int i = 0\n",
    "      \n",
    "  int[][] newArray = new int[len/gsz][gsz]\n",
    "\n",
    "  for (i = 0; i < len - gsz + 1; i += gsz)\n",
    "      System.arraycopy(arr, i, newArray[counter++], 0, gsz);\n",
    "\n",
    "  if (len % gsz == 1) {\n",
    "     newArray[0] = ArrayUtils.add(newArray[0], arr[len - 1])\n",
    "  }\n",
    "\n",
    "  if (len % gsz == 2) {\n",
    "     newArray[0] = ArrayUtils.add(newArray[0], arr[len - 1])\n",
    "     newArray[counter - 1] = ArrayUtils.add(newArray[counter - 1], arr[len - 2])\n",
    "  }\n",
    "  \n",
    "  if (len % gsz == 3) {\n",
    "      newArray = ArrayUtils.add(newArray, Arrays.copyOfRange(arr, i, len))\n",
    "  }\n",
    "      \n",
    "  return newArray;\n",
    "}\n",
    "\n",
    "\n",
    "\n",
    "\n",
    "\n",
    "int[] arr = [1,2,3,4,5,6,7,8,9,10,11,12,13,14]\n",
    "splitGroups(arr,4)\n"
   ]
  },
  {
   "cell_type": "code",
   "execution_count": null,
   "metadata": {},
   "outputs": [],
   "source": []
  },
  {
   "cell_type": "markdown",
   "metadata": {},
   "source": [
    "## Plotting Stuff"
   ]
  },
  {
   "cell_type": "code",
   "execution_count": 27,
   "metadata": {},
   "outputs": [
    {
     "data": {
      "text/plain": [
       "script1529106273393$_run_closure1@438ab115"
      ]
     },
     "execution_count": 27,
     "metadata": {},
     "output_type": "execute_result"
    }
   ],
   "source": [
    "import org.uma.jmetal.util.front.imp.ArrayFront\n",
    "\n",
    "def iterator(size,valuefun){\n",
    "    r = new ArrayList()\n",
    "    for(int i = 0;i<size;i++) {\n",
    "        r.add(valuefun.call(i))\n",
    "    }\n",
    "    return r\n",
    "}\n",
    "\n",
    "plotFronts = {refFile,obj ->\n",
    "    ref = new ArrayFront(refFile)\n",
    "    \n",
    "    xRef = iterator(ref.getNumberOfPoints(),{i -> ref.getPoint(i).getValues()[0]})\n",
    "    yRef = iterator(ref.getNumberOfPoints(),{i -> ref.getPoint(i).getValues()[1]})\n",
    "    xObj = iterator(obj.size(),{i -> obj.get(i).getObjective(0)})\n",
    "    yObj = iterator(obj.size(),{i -> obj.get(i).getObjective(1)})\n",
    "\n",
    "    plot = new Plot()    \n",
    "    plot  << new Points(x: xRef, y: yRef, displayName: \"Reference Front\") \\\n",
    "          << new Points(x: xObj, y: yObj, displayName: \"Objective Function\") \\\n",
    "\n",
    "    plot.display()\n",
    "}"
   ]
  },
  {
   "cell_type": "markdown",
   "metadata": {},
   "source": [
    "## Problem Definition"
   ]
  },
  {
   "cell_type": "code",
   "execution_count": 6,
   "metadata": {},
   "outputs": [
    {
     "data": {
      "text/plain": [
       "null"
      ]
     },
     "execution_count": 6,
     "metadata": {},
     "output_type": "execute_result"
    }
   ],
   "source": [
    "import org.uma.jmetal.problem.impl.AbstractDoubleProblem;\n",
    "import org.uma.jmetal.solution.DoubleSolution;\n",
    "\n",
    "/** Class representing problem Fonseca */\n",
    "//@SuppressWarnings(\"serial\")\n",
    "public class Fonzo extends AbstractDoubleProblem {\n",
    "\n",
    "  /** Constructor */\n",
    "  public Fonzo()  {\n",
    "    setNumberOfVariables(3);\n",
    "    setNumberOfObjectives(2);\n",
    "    setNumberOfConstraints(0);\n",
    "    setName(\"Fonseca\");\n",
    "\n",
    "    List lowerLimit = new ArrayList<>(getNumberOfVariables()) ;\n",
    "    List upperLimit = new ArrayList<>(getNumberOfVariables()) ;\n",
    "      \n",
    "    for (int i = 0; i < getNumberOfVariables(); i++) {\n",
    "      lowerLimit.add((double) -4.0);\n",
    "      upperLimit.add((double) 4.0);\n",
    "    }\n",
    "\n",
    "    setLowerLimit(lowerLimit);\n",
    "    setUpperLimit(upperLimit);\n",
    "  }\n",
    "\n",
    "  /** Evaluate() method */\n",
    "  @Override\n",
    "  public void evaluate(DoubleSolution solution) {\n",
    "    int numberOfVariables = getNumberOfVariables() ;\n",
    "\n",
    "    double[] f = new double[getNumberOfObjectives()];\n",
    "    double[] x = new double[numberOfVariables] ;\n",
    "\n",
    "    for (int i = 0; i < numberOfVariables; i++) {\n",
    "      x[i] = solution.getVariableValue(i) ;\n",
    "    }\n",
    "\n",
    "    double sum1 = 0.0;\n",
    "    for (int i = 0; i < numberOfVariables; i++) {\n",
    "      sum1 += StrictMath.pow(x[i] - (1.0 / StrictMath.sqrt((double) numberOfVariables)), 2.0);\n",
    "    }\n",
    "    double exp1 = StrictMath.exp((-1.0) * sum1);\n",
    "    f[0] = 1 - exp1;\n",
    "\n",
    "    double sum2 = 0.0;\n",
    "    for (int i = 0; i < numberOfVariables; i++) {\n",
    "      sum2 += StrictMath.pow(x[i] + (1.0 / StrictMath.sqrt((double) numberOfVariables)), 2.0);\n",
    "    }\n",
    "    double exp2 = StrictMath.exp((-1.0) * sum2);\n",
    "    f[1] = 1 - exp2;\n",
    "\n",
    "    solution.setObjective(0, f[0]);\n",
    "    solution.setObjective(1, f[1]);\n",
    "  }\n",
    "}\n"
   ]
  },
  {
   "cell_type": "code",
   "execution_count": 7,
   "metadata": {},
   "outputs": [
    {
     "data": {
      "text/plain": [
       "org.uma.jmetal.operator.impl.selection.BinaryTournamentSelection@2b7a0af8"
      ]
     },
     "execution_count": 7,
     "metadata": {},
     "output_type": "execute_result"
    }
   ],
   "source": [
    "import org.uma.jmetal.operator.impl.crossover.SBXCrossover\n",
    "import org.uma.jmetal.operator.impl.mutation.PolynomialMutation\n",
    "import org.uma.jmetal.operator.impl.selection.BinaryTournamentSelection\n",
    "import org.uma.jmetal.util.ProblemUtils\n",
    "import org.uma.jmetal.util.comparator.RankingAndCrowdingDistanceComparator\n",
    "\n",
    "//problem = ProblemUtils.loadProblem(\"org.uma.jmetal.problem.multiobjective.zdt.ZDT1\");\n",
    "problem = new Fonzo()\n",
    "\n",
    "crossoverProbability = 0.9\n",
    "crossoverDistributionIndex = 20.0\n",
    "crossover = new SBXCrossover(crossoverProbability, crossoverDistributionIndex)\n",
    "\n",
    "mutationProbability = 1.0 / problem.getNumberOfVariables()\n",
    "mutationDistributionIndex = 20.0\n",
    "mutation = new PolynomialMutation(mutationProbability, mutationDistributionIndex)\n",
    "\n",
    "selection = new BinaryTournamentSelection<>(\n",
    "    new RankingAndCrowdingDistanceComparator<>())"
   ]
  },
  {
   "cell_type": "code",
   "execution_count": 54,
   "metadata": {},
   "outputs": [
    {
     "data": {
      "text/plain": [
       "Fonzo@509b8ff2"
      ]
     },
     "execution_count": 54,
     "metadata": {},
     "output_type": "execute_result"
    }
   ],
   "source": [
    "problem"
   ]
  },
  {
   "cell_type": "code",
   "execution_count": 29,
   "metadata": {},
   "outputs": [
    {
     "ename": "java.lang.ClassCastException",
     "evalue": " org.uma.jmetal.solution.impl.DefaultDoubleSolution cannot be cast to org.uma.jmetal.solution.PermutationSolution",
     "output_type": "error",
     "traceback": [
      "\u001b[1;31mjava.lang.ClassCastException: org.uma.jmetal.solution.impl.DefaultDoubleSolution cannot be cast to org.uma.jmetal.solution.PermutationSolution\u001b[0;0m",
      "\u001b[1;31m\tat script1529106273393$1.compare(script1529106273393)\u001b[0;0m",
      "\u001b[1;31m\tat java_util_List$sort$2.call(Unknown Source)\u001b[0;0m",
      "\u001b[1;31m\tat script1529106273393$_run_closure1.doCall(script1529106273393:23)\u001b[0;0m",
      "\u001b[1;31m\tat this cell line 18\u001b[0;0m",
      "\u001b[0;31m\tat com.twosigma.beakerx.groovy.evaluator.GroovyCodeRunner.runScript(GroovyCodeRunner.java:96)\u001b[0;0m",
      "\u001b[0;31m\tat com.twosigma.beakerx.groovy.evaluator.GroovyCodeRunner.call(GroovyCodeRunner.java:61)\u001b[0;0m",
      "\u001b[0;31m\tat com.twosigma.beakerx.groovy.evaluator.GroovyCodeRunner.call(GroovyCodeRunner.java:34)\u001b[0;0m"
     ]
    }
   ],
   "source": [
    "import org.uma.jmetal.algorithm.multiobjective.nsgaii.NSGAIIBuilder\n",
    "import org.uma.jmetal.util.AbstractAlgorithmRunner\n",
    "import org.uma.jmetal.util.AlgorithmRunner\n",
    "\n",
    "algorithm = new NSGAIIBuilder<>(problem, crossover, mutation)\n",
    "    .setSelectionOperator(selection)\n",
    "    .setMaxEvaluations(35000)\n",
    "    .setPopulationSize(100)\n",
    "    .build()\n",
    "\n",
    "algorithmRunner = new AlgorithmRunner.Executor(algorithm)\n",
    "    .execute()\n",
    "\n",
    "population = algorithm.getResult()\n",
    "\n",
    "referenceParetoFrontFile = \"jMetal/jmetal-core/src/main/resources/pareto_fronts/Fonseca.pf\" ;\n",
    "\n",
    "plotFronts(referenceParetoFrontFile,population)\n",
    "AbstractAlgorithmRunner.printQualityIndicators(population, referenceParetoFrontFile)\n",
    "computingTime = algorithmRunner.getComputingTime()\n",
    "\"Total execution time: \" + computingTime + \"ms\""
   ]
  }
 ],
 "metadata": {
  "kernelspec": {
   "display_name": "Groovy",
   "language": "groovy",
   "name": "groovy"
  },
  "language_info": {
   "codemirror_mode": "groovy",
   "file_extension": ".groovy",
   "mimetype": "",
   "name": "Groovy",
   "nbconverter_exporter": "",
   "version": "2.4.3"
  }
 },
 "nbformat": 4,
 "nbformat_minor": 2
}
