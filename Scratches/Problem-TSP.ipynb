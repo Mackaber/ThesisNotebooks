{
 "cells": [
  {
   "cell_type": "code",
   "execution_count": 1,
   "metadata": {
    "init_cell": true
   },
   "outputs": [
    {
     "data": {
      "application/vnd.jupyter.widget-view+json": {
       "model_id": "",
       "version_major": 2,
       "version_minor": 0
      },
      "method": "display_data"
     },
     "metadata": {},
     "output_type": "display_data"
    },
    {
     "data": {
      "application/vnd.jupyter.widget-view+json": {
       "model_id": "86556106-58ea-4964-bbfa-3845d9ed6500",
       "version_major": 2,
       "version_minor": 0
      },
      "method": "display_data"
     },
     "metadata": {},
     "output_type": "display_data"
    },
    {
     "data": {
      "application/vnd.jupyter.widget-view+json": {
       "model_id": "",
       "version_major": 2,
       "version_minor": 0
      },
      "method": "display_data"
     },
     "metadata": {},
     "output_type": "display_data"
    },
    {
     "data": {
      "application/vnd.jupyter.widget-view+json": {
       "model_id": "aa96e701-a85c-4723-a44e-882120d2977a",
       "version_major": 2,
       "version_minor": 0
      },
      "method": "display_data"
     },
     "metadata": {},
     "output_type": "display_data"
    },
    {
     "data": {
      "application/vnd.jupyter.widget-view+json": {
       "model_id": "",
       "version_major": 2,
       "version_minor": 0
      },
      "method": "display_data"
     },
     "metadata": {},
     "output_type": "display_data"
    },
    {
     "data": {
      "application/vnd.jupyter.widget-view+json": {
       "model_id": "",
       "version_major": 2,
       "version_minor": 0
      },
      "method": "display_data"
     },
     "metadata": {},
     "output_type": "display_data"
    },
    {
     "data": {
      "application/vnd.jupyter.widget-view+json": {
       "model_id": "93e4851b-8258-47f9-8c0d-8420ecdeef90",
       "version_major": 2,
       "version_minor": 0
      },
      "method": "display_data"
     },
     "metadata": {},
     "output_type": "display_data"
    }
   ],
   "source": [
    "%classpath add mvn org.uma.jmetal jmetal-problem 5.5.2\n",
    "%classpath add mvn org.uma.jmetal jmetal-algorithm 5.5.2\n",
    "%classpath add mvn org.uma.jmetal jmetal-core 5.5.2\n",
    "%classpath add mvn org.uma.jmetal jmetal-exec 5.5.2"
   ]
  },
  {
   "cell_type": "markdown",
   "metadata": {},
   "source": [
    "## Plotting Stuff"
   ]
  },
  {
   "cell_type": "code",
   "execution_count": 5,
   "metadata": {},
   "outputs": [
    {
     "data": {
      "text/plain": [
       "script1529333231952$_run_closure1@59b38818"
      ]
     },
     "execution_count": 5,
     "metadata": {},
     "output_type": "execute_result"
    }
   ],
   "source": [
    "import org.uma.jmetal.util.front.imp.ArrayFront\n",
    "import org.uma.jmetal.solution.PermutationSolution;\n",
    "\n",
    "def iterator(size,valuefun){\n",
    "    r = new ArrayList()\n",
    "    for(int i = 0;i<size;i++) {\n",
    "        r.add(valuefun.call(i))\n",
    "    }\n",
    "    return r\n",
    "}\n",
    "\n",
    "plotFronts = {obj,refFile=null ->\n",
    "    plot = new Plot()    \n",
    "\n",
    "    if(refFile != null) { \n",
    "        ref = new ArrayFront(refFile)\n",
    "        xRef = iterator(ref.getNumberOfPoints(),{i -> ref.getPoint(i).getValues()[0]})\n",
    "        yRef = iterator(ref.getNumberOfPoints(),{i -> ref.getPoint(i).getValues()[1]})    \n",
    "        plot  << new Points(x: xRef, y: yRef, displayName: \"Reference Front\")\n",
    "    }\n",
    "    \n",
    "    // Sorted to make lines that make sense\n",
    "    obj.sort(new Comparator<PermutationSolution<Integer>>() {\n",
    "        public int compare(PermutationSolution<Integer> sol1, PermutationSolution<Integer> sol2) {\n",
    "            return sol2.getObjective(0).compareTo(sol1.getObjective(0));\n",
    "        }\n",
    "    });\n",
    "    \n",
    "    xObj = iterator(obj.size(),{i -> obj.get(i).getObjective(0)})\n",
    "    yObj = iterator(obj.size(),{i -> obj.get(i).getObjective(1)})\n",
    "    plot << new Points(x: xObj, y: yObj, displayName: \"Objective Function (Points)\")\n",
    "    plot << new Line(x: xObj, y: yObj, displayName: \"Objective Function (Line)\")\n",
    "    plot.display()\n",
    "}"
   ]
  },
  {
   "cell_type": "markdown",
   "metadata": {},
   "source": [
    "## Problem Definiton"
   ]
  },
  {
   "cell_type": "code",
   "execution_count": 156,
   "metadata": {},
   "outputs": [
    {
     "name": "stdout",
     "output_type": "stream",
     "text": [
      "Go fuck yourself!"
     ]
    },
    {
     "data": {
      "text/plain": [
       "null"
      ]
     },
     "execution_count": 156,
     "metadata": {},
     "output_type": "execute_result"
    }
   ],
   "source": [
    "import org.uma.jmetal.problem.impl.AbstractIntegerPermutationProblem;\n",
    "import org.uma.jmetal.solution.PermutationSolution;\n",
    "import org.uma.jmetal.util.JMetalException;\n",
    "\n",
    "import java.io.BufferedReader;\n",
    "import java.io.IOException;\n",
    "import java.io.InputStream;\n",
    "import java.io.InputStreamReader;\n",
    "import java.io.StreamTokenizer;\n",
    "\n",
    "public class MultiobjectiveTSPRO extends AbstractIntegerPermutationProblem {\n",
    "  protected int         numberOfCities ;\n",
    "  protected double [][] distanceMatrix ;\n",
    "  protected double [][] costMatrix;\n",
    "\n",
    "  /**\n",
    "   * Creates a new MultiobjectiveTSP problem instance\n",
    "   */\n",
    "\n",
    "  public MultiobjectiveTSPRO()  {\n",
    "    System.out.print(\"Go fuck yourself!\")\n",
    "  }\n",
    "    \n",
    "   public MultiobjectiveTSPRO(String distanceFile, String costFile) throws IOException {\n",
    "    distanceMatrix = readProblem(distanceFile) ;\n",
    "    costMatrix     = readProblem(costFile);\n",
    "\n",
    "    setNumberOfVariables(numberOfCities);\n",
    "    setNumberOfObjectives(2);\n",
    "    setName(\"MultiobjectiveTSP\");\n",
    "  }\n",
    "\n",
    "  /** Evaluate() method */\n",
    "  public void evaluate(PermutationSolution<Integer> solution){\n",
    "    double fitness1   ;\n",
    "    double fitness2   ;\n",
    "\n",
    "    fitness1 = 0.0 ;\n",
    "    fitness2 = 0.0 ;\n",
    "\n",
    "    for (int i = 0; i < (numberOfCities - 1); i++) {\n",
    "      int x ;\n",
    "      int y ;\n",
    "\n",
    "      x = solution.getVariableValue(i) ;\n",
    "      y = solution.getVariableValue(i+1) ;\n",
    "\n",
    "      fitness1 += distanceMatrix[x][y] ;\n",
    "      fitness2 += costMatrix[x][y];\n",
    "    }\n",
    "    int firstCity ;\n",
    "    int lastCity  ;\n",
    "\n",
    "    firstCity = solution.getVariableValue(0) ;\n",
    "    lastCity = solution.getVariableValue(numberOfCities - 1) ;\n",
    "\n",
    "    fitness1 += distanceMatrix[firstCity][lastCity] ;\n",
    "    fitness2 += costMatrix[firstCity][lastCity];\n",
    "\n",
    "    solution.setObjective(0, fitness1);\n",
    "    solution.setObjective(1, fitness2);\n",
    "  }\n",
    "\n",
    "  private double [][] readProblem(String fileName) {\n",
    "    double [][] matrix = null;\n",
    "    def c = [];\n",
    "      \n",
    "    File file = new File(fileName)\n",
    "    boolean valuesNextline = false\n",
    "    \n",
    "    file.eachLine { line ->\n",
    "        \n",
    "        if(valuesNextline && !line.contains(\"EOF\")) {\n",
    "            String[] vals = line.split()\n",
    "            c << vals[1].toDouble()\n",
    "            c << vals[2].toDouble()\n",
    "        } else if(line.contains(\"DIMENSION\")) {\n",
    "            numberOfCities = line.split()[1].toInteger()\n",
    "            matrix = new double[numberOfCities][numberOfCities]\n",
    "        } else if(line.contains(\"SECTION\"))\n",
    "            valuesNextline = true\n",
    "\n",
    "    }\n",
    "      double dist ;\n",
    "      for (int k = 0; k < numberOfCities; k++) {\n",
    "        matrix[k][k] = 0;\n",
    "        for (int j = k + 1; j < numberOfCities; j++) {\n",
    "          dist = Math.sqrt(Math.pow((c[k*2]-c[j*2]),2.0) +\n",
    "              Math.pow((c[k*2+1]-c[j*2+1]), 2));\n",
    "          dist = (int)(dist + 0.5);\n",
    "          matrix[k][j] = dist;\n",
    "          matrix[j][k] = dist;\n",
    "        }\n",
    "      }\n",
    "    return matrix;\n",
    "  }\n",
    "\n",
    "  public int getPermutationLength() {\n",
    "    return numberOfCities ;\n",
    "  }\n",
    "    \n",
    "  public double[][] getDistanceMatrix() {\n",
    "    return distanceMatrix;\n",
    "  }\n",
    "\n",
    "  public double[][] getCostMatrix() {\n",
    "    return costMatrix;\n",
    "  }\n",
    "}"
   ]
  },
  {
   "cell_type": "markdown",
   "metadata": {},
   "source": [
    "## NSGAII + Initialization"
   ]
  },
  {
   "cell_type": "code",
   "execution_count": 159,
   "metadata": {},
   "outputs": [
    {
     "data": {
      "application/vnd.jupyter.widget-view+json": {
       "model_id": "3ac79074-bdb5-46ad-9cac-1820ef6c84de",
       "version_major": 2,
       "version_minor": 0
      },
      "method": "display_data"
     },
     "metadata": {},
     "output_type": "display_data"
    },
    {
     "ename": "groovy.lang.GroovyRuntimeException",
     "evalue": " Could not find matching constructor for",
     "output_type": "error",
     "traceback": [
      "\u001b[0;31mgroovy.lang.GroovyRuntimeException: Could not find matching constructor for: com.twosigma.beakerx.table.TableDisplay([[D)\u001b[0;0m",
      "\u001b[0;31m\tat this cell line 56\u001b[0;0m",
      "\u001b[0;31m\tat com.twosigma.beakerx.groovy.evaluator.GroovyCodeRunner.runScript(GroovyCodeRunner.java:96)\u001b[0;0m",
      "\u001b[0;31m\tat com.twosigma.beakerx.groovy.evaluator.GroovyCodeRunner.call(GroovyCodeRunner.java:61)\u001b[0;0m",
      "\u001b[0;31m\tat com.twosigma.beakerx.groovy.evaluator.GroovyCodeRunner.call(GroovyCodeRunner.java:34)\u001b[0;0m"
     ]
    }
   ],
   "source": [
    "import org.uma.jmetal.algorithm.multiobjective.nsgaii.NSGAIIBuilder;\n",
    "import org.uma.jmetal.operator.CrossoverOperator;\n",
    "import org.uma.jmetal.operator.MutationOperator;\n",
    "import org.uma.jmetal.operator.SelectionOperator;\n",
    "\n",
    "import org.uma.jmetal.operator.impl.crossover.PMXCrossover;\n",
    "import org.uma.jmetal.operator.impl.mutation.PermutationSwapMutation;\n",
    "import org.uma.jmetal.operator.impl.selection.BinaryTournamentSelection;\n",
    "\n",
    "import org.uma.jmetal.problem.PermutationProblem;\n",
    "import org.uma.jmetal.problem.multiobjective.MultiobjectiveTSP;\n",
    "import org.uma.jmetal.solution.PermutationSolution;\n",
    "\n",
    "import org.uma.jmetal.util.AbstractAlgorithmRunner;\n",
    "import org.uma.jmetal.util.AlgorithmRunner;\n",
    "import org.uma.jmetal.util.fileoutput.SolutionListOutput;\n",
    "import org.uma.jmetal.util.comparator.RankingAndCrowdingDistanceComparator;\n",
    "import org.uma.jmetal.util.fileoutput.impl.DefaultFileOutputContext;\n",
    "\n",
    "import org.uma.jmetal.util.pseudorandom.JMetalRandom;\n",
    "\n",
    "JMetalRandom.getInstance().setSeed(100L);\n",
    "\n",
    "\n",
    "//problem = new MultiobjectiveTSP(\"/tspInstances/kroA100.tsp\", \"/tspInstances/kroB100.tsp\");\n",
    "\n",
    "problem = new MultiobjectiveTSPRO(\"toyA.tsp\",\"toyB.tsp\");\n",
    "\n",
    "crossover = new PMXCrossover(0.9) ;\n",
    "\n",
    "double mutationProbability = 0.2 ;\n",
    "mutation = new PermutationSwapMutation<Integer>(mutationProbability) ;\n",
    "\n",
    "selection = new BinaryTournamentSelection<PermutationSolution<Integer>>(new RankingAndCrowdingDistanceComparator<PermutationSolution<Integer>>());\n",
    "\n",
    "algorithm = new NSGAIIBuilder<PermutationSolution<Integer>>(problem, crossover, mutation)\n",
    "        .setSelectionOperator(selection)\n",
    "        .setMaxEvaluations(10000)\n",
    "        .setPopulationSize(100)\n",
    "        .build() ;\n",
    "\n",
    "algorithmRunner = new AlgorithmRunner.Executor(algorithm)\n",
    "        .execute() ;\n",
    "\n",
    "population = algorithm.getResult();\n",
    "computingTime = algorithmRunner.getComputingTime() ;\n",
    "\n",
    "new SolutionListOutput(population)\n",
    "        .setSeparator(\"\\t\")\n",
    "        .setVarFileOutputContext(new DefaultFileOutputContext(\"VAR.tsv\"))\n",
    "        .setFunFileOutputContext(new DefaultFileOutputContext(\"FUN.tsv\"))\n",
    "        .print();\n",
    "\n",
    "plotFronts(population)\n",
    "\n",
    "TableDisplay(problem.getCostMatrix())\n",
    "\n",
    "\"\"\"\n",
    "Total execution time: ${computingTime} ms\n",
    "Random seed: ${JMetalRandom.getInstance().getSeed()}\n",
    "Objectives values have been written to file FUN.tsv\n",
    "Variables values have been written to file VAR.tsv\n",
    "\"\"\""
   ]
  },
  {
   "cell_type": "code",
   "execution_count": 64,
   "metadata": {},
   "outputs": [
    {
     "ename": "java.lang.NullPointerException",
     "evalue": " Cannot invoke method withInputStream() on null object",
     "output_type": "error",
     "traceback": [
      "\u001b[1;31mjava.lang.NullPointerException: Cannot invoke method withInputStream() on null object\u001b[0;0m",
      "\u001b[1;31m\tat this cell line 3\u001b[0;0m",
      "\u001b[0;31m\tat com.twosigma.beakerx.groovy.evaluator.GroovyCodeRunner.runScript(GroovyCodeRunner.java:96)\u001b[0;0m",
      "\u001b[0;31m\tat com.twosigma.beakerx.groovy.evaluator.GroovyCodeRunner.call(GroovyCodeRunner.java:61)\u001b[0;0m",
      "\u001b[0;31m\tat com.twosigma.beakerx.groovy.evaluator.GroovyCodeRunner.call(GroovyCodeRunner.java:34)\u001b[0;0m"
     ]
    }
   ],
   "source": [
    "\n",
    "\n",
    "this.getClass().getResource(file).withInputStream { ins ->\n",
    "    InputStreamReader isr = new InputStreamReader(ins);\n",
    "    BufferedReader br = new BufferedReader(isr);\n",
    "    StreamTokenizer token = new StreamTokenizer(br);\n",
    "}\n",
    "token"
   ]
  },
  {
   "cell_type": "code",
   "execution_count": 72,
   "metadata": {},
   "outputs": [
    {
     "name": "stdout",
     "output_type": "stream",
     "text": [
      "line : NAME: toyA\n",
      "line : TYPE: TSP\n",
      "line : COMMENT: 10-city problem A (Krolak/Felts/Nelson)\n",
      "line : DIMENSION: 10\n",
      "line : EDGE_WEIGHT_TYPE : EUC_2D\n",
      "line : NODE_COORD_SECTION\n",
      "line : 1 1 1\n",
      "line : 2 1 2\n",
      "line : 3 1 3\n",
      "line : 4 1 4\n",
      "line : 5 1 5\n",
      "line : 6 3 1\n",
      "line : 7 3 2\n",
      "line : 8 3 3\n",
      "line : 9 3 4\n",
      "line : 10 3 5\n",
      "line : EOF\n"
     ]
    },
    {
     "data": {
      "text/plain": [
       "null"
      ]
     },
     "execution_count": 72,
     "metadata": {},
     "output_type": "execute_result"
    }
   ],
   "source": [
    "this.getClass().getResource(\"toyA.tsp\")\n",
    "\n",
    "new File(\"toyA.tsp\").eachLine {  \n",
    "    line -> \n",
    "    if(line == line){\n",
    "        println \"line : $line\";     \n",
    "    }\n",
    "}"
   ]
  },
  {
   "cell_type": "code",
   "execution_count": null,
   "metadata": {},
   "outputs": [],
   "source": []
  }
 ],
 "metadata": {
  "kernelspec": {
   "display_name": "Groovy",
   "language": "groovy",
   "name": "groovy"
  },
  "language_info": {
   "codemirror_mode": "groovy",
   "file_extension": ".groovy",
   "mimetype": "",
   "name": "Groovy",
   "nbconverter_exporter": "",
   "version": "2.4.3"
  }
 },
 "nbformat": 4,
 "nbformat_minor": 2
}
