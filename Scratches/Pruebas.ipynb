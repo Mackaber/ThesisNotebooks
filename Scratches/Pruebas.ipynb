{
 "cells": [
  {
   "cell_type": "markdown",
   "metadata": {},
   "source": [
    "# Load the Libraries"
   ]
  },
  {
   "cell_type": "code",
   "execution_count": 2,
   "metadata": {},
   "outputs": [
    {
     "data": {
      "application/vnd.jupyter.widget-view+json": {
       "model_id": "",
       "version_major": 2,
       "version_minor": 0
      },
      "method": "display_data"
     },
     "metadata": {},
     "output_type": "display_data"
    },
    {
     "data": {
      "application/vnd.jupyter.widget-view+json": {
       "model_id": "bceb38c4-0189-4c07-ac48-a77c696bcdcb",
       "version_major": 2,
       "version_minor": 0
      },
      "method": "display_data"
     },
     "metadata": {},
     "output_type": "display_data"
    },
    {
     "data": {
      "application/vnd.jupyter.widget-view+json": {
       "model_id": "",
       "version_major": 2,
       "version_minor": 0
      },
      "method": "display_data"
     },
     "metadata": {},
     "output_type": "display_data"
    },
    {
     "data": {
      "application/vnd.jupyter.widget-view+json": {
       "model_id": "aa768a54-5034-43d8-939c-143997c76530",
       "version_major": 2,
       "version_minor": 0
      },
      "method": "display_data"
     },
     "metadata": {},
     "output_type": "display_data"
    },
    {
     "data": {
      "application/vnd.jupyter.widget-view+json": {
       "model_id": "",
       "version_major": 2,
       "version_minor": 0
      },
      "method": "display_data"
     },
     "metadata": {},
     "output_type": "display_data"
    },
    {
     "data": {
      "application/vnd.jupyter.widget-view+json": {
       "model_id": "",
       "version_major": 2,
       "version_minor": 0
      },
      "method": "display_data"
     },
     "metadata": {},
     "output_type": "display_data"
    },
    {
     "data": {
      "application/vnd.jupyter.widget-view+json": {
       "model_id": "f1ced9d7-ff43-486c-b858-603e766f01e7",
       "version_major": 2,
       "version_minor": 0
      },
      "method": "display_data"
     },
     "metadata": {},
     "output_type": "display_data"
    }
   ],
   "source": [
    "%classpath add mvn org.uma.jmetal jmetal-problem 5.5.2\n",
    "%classpath add mvn org.uma.jmetal jmetal-algorithm 5.5.2\n",
    "%classpath add mvn org.uma.jmetal jmetal-core 5.5.2\n",
    "%classpath add mvn org.uma.jmetal jmetal-exec 5.5.2"
   ]
  },
  {
   "cell_type": "markdown",
   "metadata": {},
   "source": [
    "## Plotting functions"
   ]
  },
  {
   "cell_type": "code",
   "execution_count": 7,
   "metadata": {},
   "outputs": [
    {
     "data": {
      "text/plain": [
       "script1528756914936$_run_closure1@47492dfb"
      ]
     },
     "execution_count": 7,
     "metadata": {},
     "output_type": "execute_result"
    }
   ],
   "source": [
    "import org.uma.jmetal.util.front.imp.ArrayFront\n",
    "\n",
    "def iterator(size,valuefun){\n",
    "    r = new ArrayList()\n",
    "    for(int i = 0;i<size;i++) {\n",
    "        r.add(valuefun.call(i))\n",
    "    }\n",
    "    return r\n",
    "}\n",
    "\n",
    "plotFronts = {refFile,obj ->\n",
    "    ref = new ArrayFront(refFile)\n",
    "    \n",
    "    xRef = iterator(ref.getNumberOfPoints(),{i -> ref.getPoint(i).getValues()[0]})\n",
    "    yRef = iterator(ref.getNumberOfPoints(),{i -> ref.getPoint(i).getValues()[1]})\n",
    "    xObj = iterator(obj.size(),{i -> obj.get(i).getObjective(0)})\n",
    "    yObj = iterator(obj.size(),{i -> obj.get(i).getObjective(1)})\n",
    "\n",
    "    plot = new Plot()    \n",
    "    plot  << new Points(x: xRef, y: yRef, displayName: \"Reference Front\") \\\n",
    "          << new Points(x: xObj, y: yObj, displayName: \"Objective Function\") \\\n",
    "\n",
    "    plot.display()\n",
    "}"
   ]
  },
  {
   "cell_type": "markdown",
   "metadata": {},
   "source": [
    "## Initialization Stuff"
   ]
  },
  {
   "cell_type": "code",
   "execution_count": 20,
   "metadata": {},
   "outputs": [
    {
     "data": {
      "text/plain": [
       "org.uma.jmetal.operator.impl.selection.BinaryTournamentSelection@352f2c48"
      ]
     },
     "execution_count": 20,
     "metadata": {},
     "output_type": "execute_result"
    }
   ],
   "source": [
    "import org.uma.jmetal.operator.impl.crossover.SBXCrossover\n",
    "import org.uma.jmetal.operator.impl.mutation.PolynomialMutation\n",
    "import org.uma.jmetal.operator.impl.selection.BinaryTournamentSelection\n",
    "import org.uma.jmetal.util.ProblemUtils\n",
    "import org.uma.jmetal.util.comparator.RankingAndCrowdingDistanceComparator\n",
    "import org.uma.jmetal.problem.multiobjective.Fonseca\n",
    "\n",
    "//problemName = \"org.uma.jmetal.problem.multiobjective.zdt.ZDT1\"\n",
    "//referenceParetoFrontFile = \"jMetal/jmetal-core/src/main/resources/pareto_fronts/ZDT1.pf\"\n",
    "\n",
    "problemName = \"org.uma.jmetal.problem.multiobjective.Fonseca\";\n",
    "referenceParetoFrontFile = \"jMetal/jmetal-core/src/main/resources/pareto_fronts/Fonseca.pf\" ;\n",
    "\n",
    "//problem = ProblemUtils.loadProblem(problemName)\n",
    "\n",
    "problem = new Fonseca();\n",
    "\n",
    "crossoverProbability = 0.9\n",
    "crossoverDistributionIndex = 20.0\n",
    "crossover = new SBXCrossover(crossoverProbability, crossoverDistributionIndex)\n",
    "\n",
    "mutationProbability = 1.0 / problem.getNumberOfVariables()\n",
    "mutationDistributionIndex = 20.0\n",
    "mutation = new PolynomialMutation(mutationProbability, mutationDistributionIndex)\n",
    "\n",
    "selection = new BinaryTournamentSelection<>(\n",
    "    new RankingAndCrowdingDistanceComparator<>())"
   ]
  },
  {
   "cell_type": "markdown",
   "metadata": {},
   "source": [
    "## NSGAII"
   ]
  },
  {
   "cell_type": "code",
   "execution_count": 21,
   "metadata": {},
   "outputs": [
    {
     "data": {
      "application/vnd.jupyter.widget-view+json": {
       "model_id": "b77446dd-0478-48af-bfa1-8485f90b1cdd",
       "version_major": 2,
       "version_minor": 0
      },
      "method": "display_data"
     },
     "metadata": {},
     "output_type": "display_data"
    },
    {
     "name": "stderr",
     "output_type": "stream",
     "text": [
      "2018-06-11 18:32:09.546 INFO: \n",
      "Hypervolume (N) : 0.30810964487089765\n",
      "Hypervolume     : 0.33344873588262774\n",
      "Epsilon (N)     : 0.013353341889988823\n",
      "Epsilon         : 0.013106396494478756\n",
      "GD (N)          : 3.3266239194202095E-4\n",
      "GD              : 3.265104154086372E-4\n",
      "IGD (N)         : 3.087727150596566E-4\n",
      "IGD             : 3.0306253397754804E-4\n",
      "IGD+ (N)        : 0.004226256263719275\n",
      "IGD+            : 0.004148099459739467\n",
      "Spread (N)      : 0.4287665610471346\n",
      "Spread          : 0.42876656104713495\n",
      "Error ratio     : 1.0\n",
      " [org.uma.jmetal.util.AbstractAlgorithmRunner printQualityIndicators]\n"
     ]
    },
    {
     "data": {
      "text/plain": [
       "Total execution time: 598ms"
      ]
     },
     "execution_count": 21,
     "metadata": {},
     "output_type": "execute_result"
    }
   ],
   "source": [
    "import org.uma.jmetal.algorithm.multiobjective.nsgaii.NSGAIIBuilder\n",
    "import org.uma.jmetal.util.AbstractAlgorithmRunner\n",
    "import org.uma.jmetal.util.AlgorithmRunner\n",
    "\n",
    "algorithm = new NSGAIIBuilder<>(problem, crossover, mutation)\n",
    "    .setSelectionOperator(selection)\n",
    "    .setMaxEvaluations(35000)\n",
    "    .setPopulationSize(100)\n",
    "    .build()\n",
    "\n",
    "algorithmRunner = new AlgorithmRunner.Executor(algorithm)\n",
    "    .execute()\n",
    "\n",
    "population = algorithm.getResult()\n",
    "plotFronts(referenceParetoFrontFile,population)\n",
    "AbstractAlgorithmRunner.printQualityIndicators(population, referenceParetoFrontFile)\n",
    "computingTime = algorithmRunner.getComputingTime()\n",
    "\"Total execution time: \" + computingTime + \"ms\""
   ]
  },
  {
   "cell_type": "markdown",
   "metadata": {},
   "source": [
    "# MOCell"
   ]
  },
  {
   "cell_type": "code",
   "execution_count": 5,
   "metadata": {},
   "outputs": [
    {
     "data": {
      "application/vnd.jupyter.widget-view+json": {
       "model_id": "dcd25c8f-f551-443c-8a6a-389b33aa31e2",
       "version_major": 2,
       "version_minor": 0
      },
      "method": "display_data"
     },
     "metadata": {},
     "output_type": "display_data"
    },
    {
     "name": "stderr",
     "output_type": "stream",
     "text": [
      "2018-06-07 14:56:53.161 INFO: \n",
      "Hypervolume (N) : 0.659787209098237\n",
      "Hypervolume     : 0.659787209098237\n",
      "Epsilon (N)     : 0.007333162623546052\n",
      "Epsilon         : 0.007333162623546052\n",
      "GD (N)          : 2.4521292513170385E-4\n",
      "GD              : 2.4521292513170385E-4\n",
      "IGD (N)         : 1.4826366771452702E-4\n",
      "IGD             : 1.4826366771452702E-4\n",
      "IGD+ (N)        : 0.003629840055700225\n",
      "IGD+            : 0.003629840055700225\n",
      "Spread (N)      : 0.0868182388646951\n",
      "Spread          : 0.0868182388646951\n",
      "Error ratio     : 1.0\n",
      " [org.uma.jmetal.util.AbstractAlgorithmRunner printQualityIndicators]\n"
     ]
    },
    {
     "data": {
      "text/plain": [
       "Total execution time: 2546ms"
      ]
     },
     "execution_count": 5,
     "metadata": {},
     "output_type": "execute_result"
    }
   ],
   "source": [
    "import org.uma.jmetal.algorithm.multiobjective.mocell.MOCellBuilder;\n",
    "import org.uma.jmetal.util.AlgorithmRunner\n",
    "import org.uma.jmetal.util.AbstractAlgorithmRunner\n",
    "\n",
    "import org.uma.jmetal.util.archive.impl.CrowdingDistanceArchive;\n",
    "\n",
    "algorithm = new MOCellBuilder<>(problem, crossover, mutation)\n",
    "        .setSelectionOperator(selection)\n",
    "        .setMaxEvaluations(25000)\n",
    "        .setPopulationSize(100)\n",
    "        .setArchive(new CrowdingDistanceArchive<>(100))\n",
    "        .build();\n",
    "\n",
    "algorithmRunner = new AlgorithmRunner.Executor(algorithm)\n",
    "    .execute()\n",
    "\n",
    "population = algorithm.getResult()\n",
    "plotFronts(referenceParetoFrontFile,population)\n",
    "AbstractAlgorithmRunner.printQualityIndicators(population, referenceParetoFrontFile)\n",
    "computingTime = algorithmRunner.getComputingTime()\n",
    "\"Total execution time: \" + computingTime + \"ms\""
   ]
  },
  {
   "cell_type": "markdown",
   "metadata": {},
   "source": [
    "## SMPSO"
   ]
  },
  {
   "cell_type": "code",
   "execution_count": 6,
   "metadata": {},
   "outputs": [
    {
     "data": {
      "application/vnd.jupyter.widget-view+json": {
       "model_id": "ce7fc09a-d925-4206-aa9c-b467ae348ccd",
       "version_major": 2,
       "version_minor": 0
      },
      "method": "display_data"
     },
     "metadata": {},
     "output_type": "display_data"
    },
    {
     "name": "stderr",
     "output_type": "stream",
     "text": [
      "2018-06-07 14:56:58.939 INFO: \n",
      "Hypervolume (N) : 0.6617400639337897\n",
      "Hypervolume     : 0.6617400639337897\n",
      "Epsilon (N)     : 0.005681104937587028\n",
      "Epsilon         : 0.005681104937587028\n",
      "GD (N)          : 1.2861818884044837E-4\n",
      "GD              : 1.2861818884044837E-4\n",
      "IGD (N)         : 1.3529079166865992E-4\n",
      "IGD             : 1.3529079166865992E-4\n",
      "IGD+ (N)        : 0.002548959297600005\n",
      "IGD+            : 0.002548959297600005\n",
      "Spread (N)      : 0.07182125071592202\n",
      "Spread          : 0.07182125071592202\n",
      "Error ratio     : 0.98\n",
      " [org.uma.jmetal.util.AbstractAlgorithmRunner printQualityIndicators]\n"
     ]
    },
    {
     "data": {
      "text/plain": [
       "Total execution time: 758ms"
      ]
     },
     "execution_count": 6,
     "metadata": {},
     "output_type": "execute_result"
    }
   ],
   "source": [
    "import org.uma.jmetal.algorithm.multiobjective.smpso.SMPSOBuilder\n",
    "import org.uma.jmetal.util.evaluator.impl.SequentialSolutionListEvaluator\n",
    "import org.uma.jmetal.util.pseudorandom.impl.MersenneTwisterGenerator\n",
    "import org.uma.jmetal.util.AlgorithmRunner\n",
    "import org.uma.jmetal.util.AbstractAlgorithmRunner\n",
    "import org.uma.jmetal.util.archive.impl.CrowdingDistanceArchive;\n",
    "\n",
    "archive = new CrowdingDistanceArchive<>(100) ;\n",
    "\n",
    "algorithm = new SMPSOBuilder(problem, archive)\n",
    "    .setMutation(mutation)\n",
    "    .setMaxIterations(250)\n",
    "    .setSwarmSize(100)\n",
    "    .setRandomGenerator(new MersenneTwisterGenerator())\n",
    "    .setSolutionListEvaluator(new SequentialSolutionListEvaluator<>())\n",
    "    .build();\n",
    "\n",
    "AlgorithmRunner algorithmRunner = new AlgorithmRunner.Executor(algorithm)\n",
    "    .execute();\n",
    "\n",
    "population = algorithm.getResult()\n",
    "plotFronts(referenceParetoFrontFile,population)\n",
    "AbstractAlgorithmRunner.printQualityIndicators(population, referenceParetoFrontFile)\n",
    "computingTime = algorithmRunner.getComputingTime()\n",
    "\"Total execution time: \" + computingTime + \"ms\""
   ]
  }
 ],
 "metadata": {
  "kernelspec": {
   "display_name": "Groovy",
   "language": "groovy",
   "name": "groovy"
  },
  "language_info": {
   "codemirror_mode": "groovy",
   "file_extension": ".groovy",
   "mimetype": "",
   "name": "Groovy",
   "nbconverter_exporter": "",
   "version": "2.4.3"
  }
 },
 "nbformat": 4,
 "nbformat_minor": 2
}
