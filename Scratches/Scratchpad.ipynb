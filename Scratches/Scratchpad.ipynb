{
 "cells": [
  {
   "cell_type": "code",
   "execution_count": 15,
   "metadata": {},
   "outputs": [
    {
     "data": {
      "application/vnd.jupyter.widget-view+json": {
       "model_id": "",
       "version_major": 2,
       "version_minor": 0
      },
      "method": "display_data"
     },
     "metadata": {},
     "output_type": "display_data"
    },
    {
     "data": {
      "application/vnd.jupyter.widget-view+json": {
       "model_id": "",
       "version_major": 2,
       "version_minor": 0
      },
      "method": "display_data"
     },
     "metadata": {},
     "output_type": "display_data"
    },
    {
     "data": {
      "application/vnd.jupyter.widget-view+json": {
       "model_id": "",
       "version_major": 2,
       "version_minor": 0
      },
      "method": "display_data"
     },
     "metadata": {},
     "output_type": "display_data"
    },
    {
     "data": {
      "application/vnd.jupyter.widget-view+json": {
       "model_id": "",
       "version_major": 2,
       "version_minor": 0
      },
      "method": "display_data"
     },
     "metadata": {},
     "output_type": "display_data"
    },
    {
     "data": {
      "text/plain": [
       "test.scratchpad.NSGAIIRunner"
      ]
     },
     "execution_count": 15,
     "metadata": {},
     "output_type": "execute_result"
    }
   ],
   "source": [
    "%classpath add mvn org.uma.jmetal jmetal-problem 5.5.2\n",
    "%classpath add mvn org.uma.jmetal jmetal-algorithm 5.5.2\n",
    "%classpath add mvn org.uma.jmetal jmetal-core 5.5.2\n",
    "%classpath add mvn org.uma.jmetal jmetal-exec 5.5.2\n",
    "\n",
    "package test.scratchpad;\n",
    "    \n",
    "import org.uma.jmetal.algorithm.Algorithm;\n",
    "import org.uma.jmetal.algorithm.multiobjective.nsgaii.NSGAIIBuilder;\n",
    "import org.uma.jmetal.operator.CrossoverOperator;\n",
    "import org.uma.jmetal.operator.MutationOperator;\n",
    "import org.uma.jmetal.operator.SelectionOperator;\n",
    "import org.uma.jmetal.operator.impl.crossover.SBXCrossover;\n",
    "import org.uma.jmetal.operator.impl.mutation.PolynomialMutation;\n",
    "import org.uma.jmetal.operator.impl.selection.BinaryTournamentSelection;\n",
    "import org.uma.jmetal.problem.Problem;\n",
    "import org.uma.jmetal.solution.DoubleSolution;\n",
    "import org.uma.jmetal.util.AbstractAlgorithmRunner;\n",
    "import org.uma.jmetal.util.AlgorithmRunner;\n",
    "import org.uma.jmetal.util.JMetalException;\n",
    "import org.uma.jmetal.util.JMetalLogger;\n",
    "import org.uma.jmetal.util.ProblemUtils;\n",
    "import org.uma.jmetal.util.comparator.RankingAndCrowdingDistanceComparator;\n",
    "import org.uma.jmetal.util.front.Front;\n",
    "import org.uma.jmetal.util.front.imp.ArrayFront;\n",
    "\n",
    "import java.io.FileNotFoundException;\n",
    "import java.util.List;\n",
    "\n",
    "class NSGAIIRunner {\n",
    "    \n",
    "    private Problem<DoubleSolution> problem;\n",
    "    private Algorithm<List<DoubleSolution>> algorithm;\n",
    "    private CrossoverOperator<DoubleSolution> crossover;\n",
    "    private MutationOperator<DoubleSolution> mutation;\n",
    "    private SelectionOperator<List<DoubleSolution>, DoubleSolution> selection;\n",
    "\n",
    "    private String problemName = \"org.uma.jmetal.problem.multiobjective.zdt.ZDT1\";\n",
    "    private String referenceParetoFrontFile = \"ZDT1.pf\";\n",
    "    \n",
    "    private List<DoubleSolution> population;\n",
    "    private Front referenceParetoFront;\n",
    "\n",
    "    public void run() throws JMetalException {\n",
    "        problem = ProblemUtils.loadProblem(problemName);\n",
    "\n",
    "        double crossoverProbability = 0.9 ;\n",
    "        double crossoverDistributionIndex = 20.0 ;\n",
    "        crossover = new SBXCrossover(crossoverProbability, crossoverDistributionIndex) ;\n",
    "\n",
    "        double mutationProbability = 1.0 / problem.getNumberOfVariables() ;\n",
    "        double mutationDistributionIndex = 20.0 ;\n",
    "        mutation = new PolynomialMutation(mutationProbability, mutationDistributionIndex) ;\n",
    "\n",
    "        selection = new BinaryTournamentSelection<DoubleSolution>(\n",
    "            new RankingAndCrowdingDistanceComparator<DoubleSolution>());\n",
    "\n",
    "        algorithm = new NSGAIIBuilder<DoubleSolution>(problem, crossover, mutation)\n",
    "            .setSelectionOperator(selection)\n",
    "            .setMaxEvaluations(25000)\n",
    "            .setPopulationSize(100)\n",
    "            .build() ;\n",
    "\n",
    "        AlgorithmRunner algorithmRunner = new AlgorithmRunner.Executor(algorithm)\n",
    "            .execute() ;\n",
    "\n",
    "        population = algorithm.getResult() ;\n",
    "        long computingTime = algorithmRunner.getComputingTime() ;\n",
    "\n",
    "        //JMetalLogger.logger.info(\"Total execution time: \" + computingTime + \"ms\");\n",
    "    }\n",
    "    \n",
    "    public void printResults() throws FileNotFoundException {\n",
    "        AbstractAlgorithmRunner.printFinalSolutionSet(population);\n",
    "        if (!referenceParetoFront.equals(\"\")) {\n",
    "          AbstractAlgorithmRunner.printQualityIndicators(population, referenceParetoFrontFile);\n",
    "        }\n",
    "    }\n",
    "    \n",
    "    public List<DoubleSolution> getSolution() {\n",
    "        return population;\n",
    "    }\n",
    "    \n",
    "    public Front getReferenceFront() {\n",
    "        return referenceParetoFront;\n",
    "    }\n",
    "}"
   ]
  },
  {
   "cell_type": "code",
   "execution_count": 23,
   "metadata": {},
   "outputs": [
    {
     "ename": "ERROR",
     "evalue": " java.lang.NullPointerException",
     "output_type": "error",
     "traceback": [
      "\u001b[1;31mERROR: java.lang.NullPointerException\u001b[0;0m"
     ]
    }
   ],
   "source": [
    "package test.scratchpad;\n",
    "\n",
    "import org.uma.jmetal.util.front.Front;\n",
    "import org.uma.jmetal.solution.DoubleSolution;\n",
    "import org.uma.jmetal.util.front.imp.ArrayFront;\n",
    "\n",
    "import com.twosigma.beakerx.chart.xychart.Plot;\n",
    "import com.twosigma.beakerx.chart.xychart.plotitem.Points;\n",
    "\n",
    "\n",
    "import java.util.Arrays;\n",
    "import java.util.ArrayList;\n",
    "import java.util.List;\n",
    "\n",
    "NSGAIIRunner runner = new NSGAIIRunner();\n",
    "runner.run();\n",
    "\n",
    "List<DoubleSolution> solutionList = runner.getSolution();\n",
    "Front referenceFront = runner.getReferenceFront();\n",
    "\n",
    "Points points = new Points();\n",
    "ArrayList xList = new ArrayList();\n",
    "ArrayList yList = new ArrayList();\n",
    "for(int i = 0;i<referenceFront.getNumberOfPoints();i++) {\n",
    "    xList.add(referenceFront.getPoint(i).getValues()[0]);\n",
    "}\n",
    "\n",
    "for(int i = 0;i<referenceFront.getNumberOfPoints();i++) {\n",
    "    yList.add(referenceFront.getPoint(i).getValues()[1]);\n",
    "}\n",
    "\n",
    "for(int i = 0;i<solutionList.size();i++) {\n",
    "    xList.add(solutionList.get(i).getObjective(0));\n",
    "}\n",
    "\n",
    "for(int i = 0;i<solutionList.size();i++) {\n",
    "    yList.add(solutionList.get(i).getObjective(1));\n",
    "}   \n",
    "points.setX(xList);\n",
    "points.setY(yList);\n",
    "\n",
    "Plot plot = new Plot();\n",
    "plot.add(points);\n",
    "//plot.add(pointsb);\n",
    "plot.display();"
   ]
  },
  {
   "cell_type": "code",
   "execution_count": 69,
   "metadata": {},
   "outputs": [
    {
     "name": "stdout",
     "output_type": "stream",
     "text": [
      "[D@64904d35"
     ]
    },
    {
     "data": {
      "text/plain": [
       "null"
      ]
     },
     "execution_count": 69,
     "metadata": {},
     "output_type": "execute_result"
    }
   ],
   "source": [
    "package test.scratchpad;\n",
    "\n",
    "import org.uma.jmetal.util.front.Front;\n",
    "import org.uma.jmetal.util.front.imp.ArrayFront;\n",
    "\n",
    "import java.util.ArrayList;\n",
    "\n",
    "String referenceParetoFront = \"ZDT1.pf\";\n",
    "Front referenceFront = new ArrayFront(referenceParetoFront);\n",
    "\n",
    "// referenceFront.getPoint(0).getValues()\n",
    "\n",
    "/*ArrayList list = new ArrayList();\n",
    "\n",
    "list.add(1);\n",
    "list.add(2);\n",
    "list.add(3);\n",
    "\n",
    "TableDisplay tableDisplay;\n",
    "tableDisplay = new TableDisplay(list);\n",
    "tableDisplay.display();*/\n",
    "\n",
    "System.out.print(referenceFront.getPoint(0).getValues());"
   ]
  },
  {
   "cell_type": "code",
   "execution_count": 42,
   "metadata": {},
   "outputs": [
    {
     "data": {
      "text/plain": [
       "test.scratchpad.TableDisplayTest"
      ]
     },
     "execution_count": 42,
     "metadata": {},
     "output_type": "execute_result"
    }
   ],
   "source": [
    "package test.scratchpad;\n",
    "\n",
    "import java.util.ArrayList;\n",
    "import java.util.Arrays;\n",
    "import java.util.List;\n",
    "import java.util.Map;\n",
    "import java.util.HashMap;\n",
    "\n",
    "public class TableDisplayTest {\n",
    "    \n",
    "    public static final String COL_1 = \"str1\";\n",
    "    public static final String COL_3 = \"str3\";\n",
    "\n",
    "    private static List<String> getStringList() {\n",
    "        return Arrays.asList(COL_1, \"str2\", COL_3);\n",
    "    }\n",
    "\n",
    "    private static List<?> getRowData() {\n",
    "        return Arrays.asList(new Float(1.0), 1490970521000L, \"value1\");\n",
    "    }\n",
    "\n",
    "    public static List<Map<String, Object>> getListOfMapsData() {\n",
    "        List<Map<String, Object>> list = new ArrayList<>();\n",
    "        List<String> cols = getStringList();\n",
    "        List<?> row = getRowData();\n",
    "        list.add(\n",
    "                new HashMap<String, Object>() {\n",
    "                  {\n",
    "                    put(cols.get(0), row.get(0));\n",
    "                    put(cols.get(1), row.get(1));\n",
    "                    put(cols.get(2), row.get(2));\n",
    "                  }\n",
    "                });\n",
    "        list.add(\n",
    "                new HashMap<String, Object>() {\n",
    "                  {\n",
    "                    put(cols.get(0), row.get(0));\n",
    "                    put(cols.get(1), row.get(1));\n",
    "                    put(cols.get(2), row.get(2));\n",
    "                  }\n",
    "                });\n",
    "        return list;\n",
    "    }\n",
    "}"
   ]
  },
  {
   "cell_type": "markdown",
   "metadata": {},
   "source": [
    "# Esta cosa esta demasiado complicada como para tenerla sin documentación!"
   ]
  },
  {
   "cell_type": "code",
   "execution_count": 43,
   "metadata": {
    "scrolled": false
   },
   "outputs": [
    {
     "data": {
      "application/vnd.jupyter.widget-view+json": {
       "model_id": "327599c8-f5ad-401f-b5ee-279af99e8873",
       "version_major": 2,
       "version_minor": 0
      },
      "method": "display_data"
     },
     "metadata": {},
     "output_type": "display_data"
    },
    {
     "data": {
      "text/plain": [
       "null"
      ]
     },
     "execution_count": 43,
     "metadata": {},
     "output_type": "execute_result"
    }
   ],
   "source": [
    "package test.scratchpad;\n",
    "\n",
    "TableDisplay tableDisplay = new TableDisplay(TableDisplayTest.getListOfMapsData());\n",
    "tableDisplay.display();"
   ]
  },
  {
   "cell_type": "code",
   "execution_count": 59,
   "metadata": {},
   "outputs": [
    {
     "data": {
      "application/vnd.jupyter.widget-view+json": {
       "model_id": "2c031367-7f96-4092-ac16-76ffaed7626f",
       "version_major": 2,
       "version_minor": 0
      },
      "method": "display_data"
     },
     "metadata": {},
     "output_type": "display_data"
    },
    {
     "data": {
      "text/plain": [
       "null"
      ]
     },
     "execution_count": 59,
     "metadata": {},
     "output_type": "execute_result"
    }
   ],
   "source": [
    "import java.util.Arrays;\n",
    "\n",
    "import com.twosigma.beakerx.chart.xychart.Plot;\n",
    "import com.twosigma.beakerx.chart.xychart.plotitem.Line;\n",
    "import com.twosigma.beakerx.chart.xychart.plotitem.Area;\n",
    "\n",
    "Plot plot = new Plot();\n",
    "Line line = new Line();\n",
    "line.setX(Arrays.asList(1, 2, 3));\n",
    "line.setY(Arrays.asList(2, 3, 4));\n",
    "Area area = new Area();\n",
    "area.setX(Arrays.asList(1, 2, 3));\n",
    "area.setY(Arrays.asList(2, 3, 4));\n",
    "\n",
    "//plot.add(line);\n",
    "plot.add(area);\n",
    "plot.display();"
   ]
  },
  {
   "cell_type": "code",
   "execution_count": 68,
   "metadata": {
    "scrolled": true
   },
   "outputs": [
    {
     "data": {
      "application/vnd.jupyter.widget-view+json": {
       "model_id": "68bec631-4987-4f7b-8e6c-53e412f73476",
       "version_major": 2,
       "version_minor": 0
      },
      "method": "display_data"
     },
     "metadata": {},
     "output_type": "display_data"
    },
    {
     "data": {
      "text/plain": [
       "null"
      ]
     },
     "execution_count": 68,
     "metadata": {},
     "output_type": "execute_result"
    }
   ],
   "source": [
    "import java.math.BigInteger;\n",
    "import com.twosigma.beakerx.chart.xychart.Plot;\n",
    "import com.twosigma.beakerx.chart.xychart.plotitem.Points;\n",
    "import java.util.Arrays;\n",
    "\n",
    "BigInteger val1 = new BigInteger(\"12345678901234567891000\");\n",
    "BigInteger val2 = new BigInteger(\"12345678901234567892000\");\n",
    "Points points = new Points();\n",
    "points.setX(Arrays.asList(val1, val2));\n",
    "points.setY(Arrays.asList(2, 3));\n",
    "\n",
    "Plot plot = new Plot();\n",
    "plot.add(points);\n",
    "plot.display();"
   ]
  },
  {
   "cell_type": "markdown",
   "metadata": {},
   "source": [
    "# Imprimiendo un frente de pareto de referencia! :D"
   ]
  },
  {
   "cell_type": "code",
   "execution_count": 25,
   "metadata": {},
   "outputs": [
    {
     "data": {
      "application/vnd.jupyter.widget-view+json": {
       "model_id": "e2d4977e-f9bf-4209-b3dc-b1ab2ea29e60",
       "version_major": 2,
       "version_minor": 0
      },
      "method": "display_data"
     },
     "metadata": {},
     "output_type": "display_data"
    },
    {
     "data": {
      "text/plain": [
       "null"
      ]
     },
     "execution_count": 25,
     "metadata": {},
     "output_type": "execute_result"
    }
   ],
   "source": [
    "package test.scratchpad;\n",
    "\n",
    "import org.uma.jmetal.util.front.Front;\n",
    "import org.uma.jmetal.util.front.imp.ArrayFront;\n",
    "\n",
    "import com.twosigma.beakerx.chart.xychart.Plot;\n",
    "import com.twosigma.beakerx.chart.xychart.plotitem.Points;\n",
    "\n",
    "import java.util.Arrays;\n",
    "import java.util.ArrayList;\n",
    "\n",
    "String referenceParetoFront = \"jMetal/jmetal-core/src/main/resources/pareto_fronts/ZDT1.pf\";\n",
    "Front referenceFront = new ArrayFront(referenceParetoFront);\n",
    "\n",
    "Points points = new Points();\n",
    "\n",
    "// Esta es la magia, básicamente se hacen 2 listas y se ponen los puntos x y y en cada una\n",
    "// También cabe destacar que los frentes de pareto pueden ser multidimensionales! :P \n",
    "\n",
    "ArrayList xList = new ArrayList();\n",
    "ArrayList yList = new ArrayList();\n",
    "\n",
    "for(int i = 0;i<referenceFront.getNumberOfPoints();i++) {\n",
    "    xList.add(referenceFront.getPoint(i).getValues()[0]);\n",
    "}\n",
    "\n",
    "for(int i = 0;i<referenceFront.getNumberOfPoints();i++) {\n",
    "    yList.add(referenceFront.getPoint(i).getValues()[1]);\n",
    "}   \n",
    "    \n",
    "points.setX(xList);\n",
    "points.setY(yList);\n",
    "\n",
    "Plot plot = new Plot();\n",
    "plot.add(points);\n",
    "plot.display();"
   ]
  }
 ],
 "metadata": {
  "kernelspec": {
   "display_name": "Java",
   "language": "java",
   "name": "java"
  },
  "language_info": {
   "codemirror_mode": "text/x-java",
   "file_extension": ".java",
   "mimetype": "",
   "name": "Java",
   "nbconverter_exporter": "",
   "version": "1.8.0_121"
  }
 },
 "nbformat": 4,
 "nbformat_minor": 2
}
