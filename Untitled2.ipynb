{
 "cells": [
  {
   "cell_type": "code",
   "execution_count": 13,
   "metadata": {},
   "outputs": [
    {
     "name": "stdout",
     "output_type": "stream",
     "text": [
      "[<TargetingSearch> {\n",
      "    \"audience_size\": 219640310,\n",
      "    \"description\": \"\",\n",
      "    \"id\": \"6003840140052\",\n",
      "    \"name\": \"Agriculture\",\n",
      "    \"path\": [\n",
      "        \"Interests\",\n",
      "        \"Business and industry\",\n",
      "        \"Agriculture\"\n",
      "    ],\n",
      "    \"topic\": \"Business and industry\"\n",
      "}, <TargetingSearch> {\n",
      "    \"audience_size\": 11838900,\n",
      "    \"id\": \"6003224012272\",\n",
      "    \"name\": \"Tropical agriculture\",\n",
      "    \"path\": [\n",
      "        \"Interests\",\n",
      "        \"Additional Interests\",\n",
      "        \"Tropical agriculture\"\n",
      "    ],\n",
      "    \"topic\": \"Education\"\n",
      "}, <TargetingSearch> {\n",
      "    \"audience_size\": 5120950,\n",
      "    \"disambiguation_category\": \"Government Organization\",\n",
      "    \"id\": \"6003334623656\",\n",
      "    \"name\": \"United States Department of Agriculture\",\n",
      "    \"path\": [\n",
      "        \"Interests\",\n",
      "        \"Additional Interests\",\n",
      "        \"United States Department of Agriculture\"\n",
      "    ],\n",
      "    \"topic\": \"Business and industry\"\n",
      "}, <TargetingSearch> {\n",
      "    \"audience_size\": 3846490,\n",
      "    \"disambiguation_category\": \"Local Business\",\n",
      "    \"id\": \"6003339219456\",\n",
      "    \"name\": \"Field (agriculture)\",\n",
      "    \"path\": [\n",
      "        \"Interests\",\n",
      "        \"Additional Interests\",\n",
      "        \"Field (agriculture)\"\n",
      "    ],\n",
      "    \"topic\": \"Business and industry\"\n",
      "}, <TargetingSearch> {\n",
      "    \"audience_size\": 2952110,\n",
      "    \"id\": \"6003279815223\",\n",
      "    \"name\": \"Urban agriculture\",\n",
      "    \"path\": [\n",
      "        \"Interests\",\n",
      "        \"Additional Interests\",\n",
      "        \"Urban agriculture\"\n",
      "    ],\n",
      "    \"topic\": \"Hobbies and activities\"\n",
      "}, <TargetingSearch> {\n",
      "    \"audience_size\": 2719500,\n",
      "    \"disambiguation_category\": \"Industrial Company\",\n",
      "    \"id\": \"6003145361966\",\n",
      "    \"name\": \"New Holland Agriculture\",\n",
      "    \"path\": [\n",
      "        \"Interests\",\n",
      "        \"Additional Interests\",\n",
      "        \"New Holland Agriculture\"\n",
      "    ],\n",
      "    \"topic\": \"Business and industry\"\n",
      "}, <TargetingSearch> {\n",
      "    \"audience_size\": 2613850,\n",
      "    \"disambiguation_category\": \"Community Organization\",\n",
      "    \"id\": \"6003746141304\",\n",
      "    \"name\": \"Food and Agriculture Organization\",\n",
      "    \"path\": [\n",
      "        \"Interests\",\n",
      "        \"Additional Interests\",\n",
      "        \"Food and Agriculture Organization\"\n",
      "    ],\n",
      "    \"topic\": \"Hobbies and activities\"\n",
      "}, <TargetingSearch> {\n",
      "    \"audience_size\": 2069380,\n",
      "    \"id\": \"6003254804309\",\n",
      "    \"name\": \"Field day (agriculture)\",\n",
      "    \"path\": [\n",
      "        \"Interests\",\n",
      "        \"Additional Interests\",\n",
      "        \"Field day (agriculture)\"\n",
      "    ],\n",
      "    \"topic\": \"Hobbies and activities\"\n",
      "}]\n"
     ]
    }
   ],
   "source": [
    "from facebook_business.adobjects.targetingsearch import TargetingSearch\n",
    "\n",
    "params = {\n",
    "    'q': 'Agriculture',\n",
    "    'type': 'adinterest',\n",
    "    'country': 'Mexico'\n",
    "}\n",
    "\n",
    "resp = TargetingSearch.search(params=params)\n",
    "print(resp)"
   ]
  },
  {
   "cell_type": "code",
   "execution_count": 15,
   "metadata": {},
   "outputs": [
    {
     "name": "stdout",
     "output_type": "stream",
     "text": [
      "[<TargetingSearch> {\n",
      "    \"country_code\": \"MX\",\n",
      "    \"country_name\": \"Mexico\",\n",
      "    \"key\": \"MX\",\n",
      "    \"name\": \"Mexico\",\n",
      "    \"supports_city\": true,\n",
      "    \"supports_region\": true,\n",
      "    \"type\": \"country\"\n",
      "}]\n"
     ]
    }
   ],
   "source": [
    "params = {\n",
    "    'q': 'mexico',\n",
    "    'type': 'adgeolocation',\n",
    "    'location_types': ['country'],\n",
    "}\n",
    "resp = TargetingSearch.search(params=params)\n",
    "print(resp)"
   ]
  }
 ],
 "metadata": {
  "kernelspec": {
   "display_name": "Python 3",
   "language": "python",
   "name": "python3"
  },
  "language_info": {
   "codemirror_mode": {
    "name": "ipython",
    "version": 3
   },
   "file_extension": ".py",
   "mimetype": "text/x-python",
   "name": "python",
   "nbconvert_exporter": "python",
   "pygments_lexer": "ipython3",
   "version": "3.6.5"
  }
 },
 "nbformat": 4,
 "nbformat_minor": 2
}
