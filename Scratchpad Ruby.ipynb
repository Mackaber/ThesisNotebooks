{
 "cells": [
  {
   "cell_type": "code",
   "execution_count": 13,
   "metadata": {},
   "outputs": [
    {
     "ename": "NameError",
     "evalue": "undefined local variable or method `r' for main:Object",
     "output_type": "error",
     "traceback": [
      "\u001b[31mNameError\u001b[0m: undefined local variable or method `r' for main:Object",
      "\u001b[37m<main>:2:in `<main>'\u001b[0m",
      "\u001b[37m/Users/mackaber/.rbenv/versions/2.4.1/lib/ruby/gems/2.4.0/gems/iruby-0.3/lib/iruby/backend.rb:44:in `eval'\u001b[0m",
      "\u001b[37m/Users/mackaber/.rbenv/versions/2.4.1/lib/ruby/gems/2.4.0/gems/iruby-0.3/lib/iruby/backend.rb:44:in `eval'\u001b[0m",
      "\u001b[37m/Users/mackaber/.rbenv/versions/2.4.1/lib/ruby/gems/2.4.0/gems/iruby-0.3/lib/iruby/backend.rb:12:in `eval'\u001b[0m",
      "\u001b[37m/Users/mackaber/.rbenv/versions/2.4.1/lib/ruby/gems/2.4.0/gems/iruby-0.3/lib/iruby/kernel.rb:87:in `execute_request'\u001b[0m",
      "\u001b[37m/Users/mackaber/.rbenv/versions/2.4.1/lib/ruby/gems/2.4.0/gems/iruby-0.3/lib/iruby/kernel.rb:47:in `dispatch'\u001b[0m",
      "\u001b[37m/Users/mackaber/.rbenv/versions/2.4.1/lib/ruby/gems/2.4.0/gems/iruby-0.3/lib/iruby/kernel.rb:37:in `run'\u001b[0m",
      "\u001b[37m/Users/mackaber/.rbenv/versions/2.4.1/lib/ruby/gems/2.4.0/gems/iruby-0.3/lib/iruby/command.rb:70:in `run_kernel'\u001b[0m",
      "\u001b[37m/Users/mackaber/.rbenv/versions/2.4.1/lib/ruby/gems/2.4.0/gems/iruby-0.3/lib/iruby/command.rb:34:in `run'\u001b[0m",
      "\u001b[37m/Users/mackaber/.rbenv/versions/2.4.1/lib/ruby/gems/2.4.0/gems/iruby-0.3/bin/iruby:5:in `<top (required)>'\u001b[0m",
      "\u001b[37m/Users/mackaber/.rbenv/versions/2.4.1/bin/iruby:22:in `load'\u001b[0m",
      "\u001b[37m/Users/mackaber/.rbenv/versions/2.4.1/bin/iruby:22:in `<main>'\u001b[0m"
     ]
    }
   ],
   "source": [
    "require 'sciruby'\n",
    "\n",
    "volume = Math::PI/3*r*r*h\n",
    "s =  Math.sqrt(r*r+h*h)\n",
    "lateral = Math::PI*r*s\n",
    "base = Math::PI*r*r"
   ]
  },
  {
   "cell_type": "code",
   "execution_count": null,
   "metadata": {},
   "outputs": [],
   "source": []
  }
 ],
 "metadata": {
  "kernelspec": {
   "display_name": "Ruby 2.4.1",
   "language": "ruby",
   "name": "ruby"
  },
  "language_info": {
   "file_extension": ".rb",
   "mimetype": "application/x-ruby",
   "name": "ruby",
   "version": "2.4.1"
  }
 },
 "nbformat": 4,
 "nbformat_minor": 2
}
