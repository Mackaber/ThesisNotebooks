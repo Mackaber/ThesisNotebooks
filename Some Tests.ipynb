{
 "cells": [
  {
   "cell_type": "code",
   "execution_count": 33,
   "metadata": {},
   "outputs": [
    {
     "data": {
      "text/plain": [
       "test.thing.Container"
      ]
     },
     "execution_count": 33,
     "metadata": {},
     "output_type": "execute_result"
    }
   ],
   "source": [
    "package test.thing;\n",
    "\n",
    "\n",
    "class Container {\n",
    "    private String str = \"Hello\";\n",
    "    \n",
    "    public void printStr(){\n",
    "        System.out.print(str);\n",
    "    }\n",
    "}"
   ]
  },
  {
   "cell_type": "code",
   "execution_count": 21,
   "metadata": {},
   "outputs": [
    {
     "ename": "cannot find symbol",
     "evalue": "cannot find symbol",
     "output_type": "error",
     "traceback": [
      "\u001b[1;31mcannot find symbol\u001b[0;0m",
      "\u001b[1;31m  symbol:   class Container\u001b[0;0m",
      "\u001b[1;31m  location: class test.thing.BeakerWrapperClass1261714175Id5a9572b2dff44d159254ee1dae9f5a72\u001b[0;0m",
      "\u001b[1;31m Container cnt = new Container()\u001b[0;0m",
      "\u001b[1;31m ^        ^                       \u001b[0;0m",
      "\u001b[1;31m\u001b[0;0m",
      "\u001b[1;31mcannot find symbol\u001b[0;0m",
      "\u001b[1;31m  symbol:   class Container\u001b[0;0m",
      "\u001b[1;31m  location: class test.thing.BeakerWrapperClass1261714175Id5a9572b2dff44d159254ee1dae9f5a72\u001b[0;0m",
      "\u001b[1;31m Container cnt = new Container()\u001b[0;0m",
      "\u001b[1;31m                     ^        ^   \u001b[0;0m",
      "\u001b[1;31m\u001b[0;0m",
      "\u001b[1;31mcannot find symbol\u001b[0;0m",
      "\u001b[1;31m  symbol:   variable BeakerX\u001b[0;0m",
      "\u001b[1;31m  location: class test.thing.BeakerWrapperClass1261714175Id5a9572b2dff44d159254ee1dae9f5a72\u001b[0;0m",
      "\u001b[1;31m BeakerX = cnt\u001b[0;0m",
      "\u001b[1;31m ^      ^       \u001b[0;0m"
     ]
    }
   ],
   "source": [
    "package test.thing;\n",
    "\n",
    "Container cnt = new Container();\n",
    "BeakerX = cnt;"
   ]
  },
  {
   "cell_type": "code",
   "execution_count": 16,
   "metadata": {},
   "outputs": [
    {
     "name": "stdout",
     "output_type": "stream",
     "text": [
      "The Thing"
     ]
    },
    {
     "ename": "groovy.lang.MissingPropertyException",
     "evalue": " No such property",
     "output_type": "error",
     "traceback": [
      "\u001b[1;31mgroovy.lang.MissingPropertyException: No such property: Container for class: test.thing.script1528326642983\u001b[0;0m",
      "\u001b[1;31m\tat test.thing.this cell line 8\u001b[0;0m",
      "\u001b[0;31m\tat com.twosigma.beakerx.groovy.evaluator.GroovyCodeRunner.runScript(GroovyCodeRunner.java:96)\u001b[0;0m",
      "\u001b[0;31m\tat com.twosigma.beakerx.groovy.evaluator.GroovyCodeRunner.call(GroovyCodeRunner.java:61)\u001b[0;0m",
      "\u001b[0;31m\tat com.twosigma.beakerx.groovy.evaluator.GroovyCodeRunner.call(GroovyCodeRunner.java:34)\u001b[0;0m"
     ]
    }
   ],
   "source": [
    "%%groovy\n",
    "\n",
    "package test.thing;\n",
    "\n",
    "def void doTheThing() {\n",
    "    System.out.print(\"The Thing\");\n",
    "}\n",
    "\n",
    "doTheThing();\n",
    "Container.printStr();"
   ]
  }
 ],
 "metadata": {
  "kernelspec": {
   "display_name": "Java",
   "language": "java",
   "name": "java"
  },
  "language_info": {
   "codemirror_mode": "text/x-java",
   "file_extension": ".java",
   "mimetype": "",
   "name": "Java",
   "nbconverter_exporter": "",
   "version": "1.8.0_121"
  }
 },
 "nbformat": 4,
 "nbformat_minor": 2
}
