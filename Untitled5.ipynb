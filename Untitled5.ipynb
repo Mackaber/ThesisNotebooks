{
 "cells": [
  {
   "cell_type": "code",
   "execution_count": 8,
   "metadata": {},
   "outputs": [
    {
     "name": "stdout",
     "output_type": "stream",
     "text": [
      "Mark [1, 2, 3]\n",
      "Pete [4, 5, 6]\n"
     ]
    },
    {
     "data": {
      "text/plain": [
       "null"
      ]
     },
     "execution_count": 8,
     "metadata": {},
     "output_type": "execute_result"
    }
   ],
   "source": [
    "@Grab('com.xlson.groovycsv:groovycsv:0.2')\n",
    "import com.xlson.groovycsv.CsvParser\n",
    "\n",
    "def csv = '''Name,Lastname\n",
    "Mark,\"[1,2,3]\"\n",
    "Pete,\"[4,5,6]\"'''\n",
    "\n",
    "def data = new CsvParser().parse(csv)\n",
    "for(line in data) {\n",
    "    println \"$line.Name ${Eval.me(line.Lastname)}\"\n",
    "}"
   ]
  }
 ],
 "metadata": {
  "kernelspec": {
   "display_name": "Groovy",
   "language": "groovy",
   "name": "groovy"
  },
  "language_info": {
   "codemirror_mode": "groovy",
   "file_extension": ".groovy",
   "mimetype": "",
   "name": "Groovy",
   "nbconverter_exporter": "",
   "version": "2.4.3"
  }
 },
 "nbformat": 4,
 "nbformat_minor": 2
}
