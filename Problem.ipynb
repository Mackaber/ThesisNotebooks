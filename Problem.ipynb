{
 "cells": [
  {
   "cell_type": "code",
   "execution_count": 2,
   "metadata": {},
   "outputs": [
    {
     "data": {
      "application/vnd.jupyter.widget-view+json": {
       "model_id": "",
       "version_major": 2,
       "version_minor": 0
      },
      "method": "display_data"
     },
     "metadata": {},
     "output_type": "display_data"
    },
    {
     "data": {
      "application/vnd.jupyter.widget-view+json": {
       "model_id": "f733a1e0-1d0c-464a-9032-02de0a4682b6",
       "version_major": 2,
       "version_minor": 0
      },
      "method": "display_data"
     },
     "metadata": {},
     "output_type": "display_data"
    },
    {
     "data": {
      "application/vnd.jupyter.widget-view+json": {
       "model_id": "",
       "version_major": 2,
       "version_minor": 0
      },
      "method": "display_data"
     },
     "metadata": {},
     "output_type": "display_data"
    },
    {
     "data": {
      "application/vnd.jupyter.widget-view+json": {
       "model_id": "a089c282-5a2a-4583-9b96-d6b4eddd76bf",
       "version_major": 2,
       "version_minor": 0
      },
      "method": "display_data"
     },
     "metadata": {},
     "output_type": "display_data"
    },
    {
     "data": {
      "application/vnd.jupyter.widget-view+json": {
       "model_id": "",
       "version_major": 2,
       "version_minor": 0
      },
      "method": "display_data"
     },
     "metadata": {},
     "output_type": "display_data"
    },
    {
     "data": {
      "application/vnd.jupyter.widget-view+json": {
       "model_id": "",
       "version_major": 2,
       "version_minor": 0
      },
      "method": "display_data"
     },
     "metadata": {},
     "output_type": "display_data"
    },
    {
     "data": {
      "application/vnd.jupyter.widget-view+json": {
       "model_id": "f7c9713a-4c62-4745-aa65-449b94ac9146",
       "version_major": 2,
       "version_minor": 0
      },
      "method": "display_data"
     },
     "metadata": {},
     "output_type": "display_data"
    }
   ],
   "source": [
    "%classpath add mvn org.uma.jmetal jmetal-problem 5.5.2\n",
    "%classpath add mvn org.uma.jmetal jmetal-algorithm 5.5.2\n",
    "%classpath add mvn org.uma.jmetal jmetal-core 5.5.2\n",
    "%classpath add mvn org.uma.jmetal jmetal-exec 5.5.2"
   ]
  },
  {
   "cell_type": "markdown",
   "metadata": {},
   "source": [
    "## Plotting Stuff"
   ]
  },
  {
   "cell_type": "code",
   "execution_count": 63,
   "metadata": {
    "slideshow": {
     "slide_type": "-"
    }
   },
   "outputs": [
    {
     "data": {
      "text/plain": [
       "script1528761442744$_run_closure1@563f6b78"
      ]
     },
     "execution_count": 63,
     "metadata": {},
     "output_type": "execute_result"
    }
   ],
   "source": [
    "import org.uma.jmetal.util.front.imp.ArrayFront\n",
    "\n",
    "def iterator(size,valuefun){\n",
    "    r = new ArrayList()\n",
    "    for(int i = 0;i<size;i++) {\n",
    "        r.add(valuefun.call(i))\n",
    "    }\n",
    "    return r\n",
    "}\n",
    "\n",
    "plotFronts = {refFile,obj ->\n",
    "    ref = new ArrayFront(refFile)\n",
    "    \n",
    "    xRef = iterator(ref.getNumberOfPoints(),{i -> ref.getPoint(i).getValues()[0]})\n",
    "    yRef = iterator(ref.getNumberOfPoints(),{i -> ref.getPoint(i).getValues()[1]})\n",
    "    xObj = iterator(obj.size(),{i -> obj.get(i).getObjective(0)})\n",
    "    yObj = iterator(obj.size(),{i -> obj.get(i).getObjective(1)})\n",
    "\n",
    "    plot = new Plot()    \n",
    "    plot  << new Points(x: xRef, y: yRef, displayName: \"Reference Front\") \\\n",
    "          << new Points(x: xObj, y: yObj, displayName: \"Objective Function\") \\\n",
    "\n",
    "    plot.display()\n",
    "}"
   ]
  },
  {
   "cell_type": "markdown",
   "metadata": {},
   "source": [
    "## Problem Definition"
   ]
  },
  {
   "cell_type": "code",
   "execution_count": 1,
   "metadata": {},
   "outputs": [
    {
     "ename": "unable to resolve class org.uma.jmetal.problem.impl.AbstractDoubleProblem @ line 1, column 1.",
     "evalue": "unable to resolve class org.uma.jmetal.problem.impl.AbstractDoubleProblem @ line 1, column 1.",
     "output_type": "error",
     "traceback": [
      "\u001b[1;31munable to resolve class org.uma.jmetal.problem.impl.AbstractDoubleProblem @ line 1, column 1.\u001b[0;0m",
      "\u001b[1;31m   import org.uma.jmetal.problem.impl.AbstractDoubleProblem;\u001b[0;0m",
      "\u001b[1;31m   ^\u001b[0;0m",
      "\u001b[1;31m\u001b[0;0m",
      "\u001b[1;31mscript1529510905831: 2: unable to resolve class org.uma.jmetal.solution.DoubleSolution\u001b[0;0m",
      "\u001b[1;31m @ line 2, column 1.\u001b[0;0m",
      "\u001b[1;31m   import org.uma.jmetal.solution.DoubleSolution;\u001b[0;0m",
      "\u001b[1;31m   ^\u001b[0;0m",
      "\u001b[1;31m\u001b[0;0m",
      "\u001b[1;31m2 errors\u001b[0;0m",
      "\u001b[1;31m\u001b[0;0m",
      "\u001b[0;31m\tat com.twosigma.beakerx.groovy.evaluator.GroovyCodeRunner.call(GroovyCodeRunner.java:57)\u001b[0;0m",
      "\u001b[0;31m\tat com.twosigma.beakerx.groovy.evaluator.GroovyCodeRunner.call(GroovyCodeRunner.java:34)\u001b[0;0m"
     ]
    }
   ],
   "source": [
    "import org.uma.jmetal.problem.impl.AbstractDoubleProblem;\n",
    "import org.uma.jmetal.solution.DoubleSolution;\n",
    "\n",
    "import java.util.ArrayList;\n",
    "import java.util.List;\n",
    "\n",
    "/** Class representing problem Fonseca */\n",
    "//@SuppressWarnings(\"serial\")\n",
    "public class Fonzo extends AbstractDoubleProblem {\n",
    "\n",
    "  /** Constructor */\n",
    "  public Fonzo()  {\n",
    "    setNumberOfVariables(3);\n",
    "    setNumberOfObjectives(2);\n",
    "    setNumberOfConstraints(0);\n",
    "    setName(\"Fonseca\");\n",
    "\n",
    "    List lowerLimit = new ArrayList<>(getNumberOfVariables()) ;\n",
    "    List upperLimit = new ArrayList<>(getNumberOfVariables()) ;\n",
    "      \n",
    "    for (int i = 0; i < getNumberOfVariables(); i++) {\n",
    "      lowerLimit.add((double) -4.0);\n",
    "      upperLimit.add((double) 4.0);\n",
    "    }\n",
    "\n",
    "    setLowerLimit(lowerLimit);\n",
    "    setUpperLimit(upperLimit);\n",
    "  }\n",
    "\n",
    "  /** Evaluate() method */\n",
    "  @Override\n",
    "  public void evaluate(DoubleSolution solution) {\n",
    "    int numberOfVariables = getNumberOfVariables() ;\n",
    "\n",
    "    double[] f = new double[getNumberOfObjectives()];\n",
    "    double[] x = new double[numberOfVariables] ;\n",
    "\n",
    "    for (int i = 0; i < numberOfVariables; i++) {\n",
    "      x[i] = solution.getVariableValue(i) ;\n",
    "    }\n",
    "\n",
    "    double sum1 = 0.0;\n",
    "    for (int i = 0; i < numberOfVariables; i++) {\n",
    "      sum1 += StrictMath.pow(x[i] - (1.0 / StrictMath.sqrt((double) numberOfVariables)), 2.0);\n",
    "    }\n",
    "    double exp1 = StrictMath.exp((-1.0) * sum1);\n",
    "    f[0] = 1 - exp1;\n",
    "\n",
    "    double sum2 = 0.0;\n",
    "    for (int i = 0; i < numberOfVariables; i++) {\n",
    "      sum2 += StrictMath.pow(x[i] + (1.0 / StrictMath.sqrt((double) numberOfVariables)), 2.0);\n",
    "    }\n",
    "    double exp2 = StrictMath.exp((-1.0) * sum2);\n",
    "    f[1] = 1 - exp2;\n",
    "\n",
    "    solution.setObjective(0, f[0]);\n",
    "    solution.setObjective(1, f[1]);\n",
    "  }\n",
    "}\n"
   ]
  },
  {
   "cell_type": "code",
   "execution_count": 2,
   "metadata": {},
   "outputs": [
    {
     "ename": "unable to resolve class org.uma.jmetal.operator.impl.mutation.PolynomialMutation @ line 2, column 1.",
     "evalue": "unable to resolve class org.uma.jmetal.operator.impl.mutation.PolynomialMutation @ line 2, column 1.",
     "output_type": "error",
     "traceback": [
      "\u001b[1;31munable to resolve class org.uma.jmetal.operator.impl.mutation.PolynomialMutation @ line 2, column 1.\u001b[0;0m",
      "\u001b[1;31m   import org.uma.jmetal.operator.impl.mutation.PolynomialMutation\u001b[0;0m",
      "\u001b[1;31m   ^\u001b[0;0m",
      "\u001b[1;31m\u001b[0;0m",
      "\u001b[1;31mscript1529335812172: 3: unable to resolve class org.uma.jmetal.operator.impl.selection.BinaryTournamentSelection\u001b[0;0m",
      "\u001b[1;31m @ line 3, column 1.\u001b[0;0m",
      "\u001b[1;31m   import org.uma.jmetal.operator.impl.selection.BinaryTournamentSelection\u001b[0;0m",
      "\u001b[1;31m   ^\u001b[0;0m",
      "\u001b[1;31m\u001b[0;0m",
      "\u001b[1;31mscript1529335812172: 5: unable to resolve class org.uma.jmetal.util.comparator.RankingAndCrowdingDistanceComparator\u001b[0;0m",
      "\u001b[1;31m @ line 5, column 1.\u001b[0;0m",
      "\u001b[1;31m   import org.uma.jmetal.util.comparator.RankingAndCrowdingDistanceComparator\u001b[0;0m",
      "\u001b[1;31m   ^\u001b[0;0m",
      "\u001b[1;31m\u001b[0;0m",
      "\u001b[1;31mscript1529335812172: 4: unable to resolve class org.uma.jmetal.util.ProblemUtils\u001b[0;0m",
      "\u001b[1;31m @ line 4, column 1.\u001b[0;0m",
      "\u001b[1;31m   import org.uma.jmetal.util.ProblemUtils\u001b[0;0m",
      "\u001b[1;31m   ^\u001b[0;0m",
      "\u001b[1;31m\u001b[0;0m",
      "\u001b[1;31mscript1529335812172: 1: unable to resolve class org.uma.jmetal.operator.impl.crossover.SBXCrossover\u001b[0;0m",
      "\u001b[1;31m @ line 1, column 1.\u001b[0;0m",
      "\u001b[1;31m   import org.uma.jmetal.operator.impl.crossover.SBXCrossover\u001b[0;0m",
      "\u001b[1;31m   ^\u001b[0;0m",
      "\u001b[1;31m\u001b[0;0m",
      "\u001b[1;31mscript1529335812172: 8: unable to resolve class Fonzo \u001b[0;0m",
      "\u001b[1;31m @ line 8, column 11.\u001b[0;0m",
      "\u001b[1;31m   problem = new Fonzo()\u001b[0;0m",
      "\u001b[1;31m             ^\u001b[0;0m",
      "\u001b[1;31m\u001b[0;0m",
      "\u001b[1;31m6 errors\u001b[0;0m",
      "\u001b[1;31m\u001b[0;0m",
      "\u001b[0;31m\tat com.twosigma.beakerx.groovy.evaluator.GroovyCodeRunner.call(GroovyCodeRunner.java:57)\u001b[0;0m",
      "\u001b[0;31m\tat com.twosigma.beakerx.groovy.evaluator.GroovyCodeRunner.call(GroovyCodeRunner.java:34)\u001b[0;0m"
     ]
    }
   ],
   "source": [
    "import org.uma.jmetal.operator.impl.crossover.SBXCrossover\n",
    "import org.uma.jmetal.operator.impl.mutation.PolynomialMutation\n",
    "import org.uma.jmetal.operator.impl.selection.BinaryTournamentSelection\n",
    "import org.uma.jmetal.util.ProblemUtils\n",
    "import org.uma.jmetal.util.comparator.RankingAndCrowdingDistanceComparator\n",
    "\n",
    "//problem = ProblemUtils.loadProblem(\"org.uma.jmetal.problem.multiobjective.zdt.ZDT1\");\n",
    "problem = new Fonzo()\n",
    "\n",
    "crossoverProbability = 0.9\n",
    "crossoverDistributionIndex = 20.0\n",
    "crossover = new SBXCrossover(crossoverProbability, crossoverDistributionIndex)\n",
    "\n",
    "mutationProbability = 1.0 / problem.getNumberOfVariables()\n",
    "mutationDistributionIndex = 20.0\n",
    "mutation = new PolynomialMutation(mutationProbability, mutationDistributionIndex)\n",
    "\n",
    "selection = new BinaryTournamentSelection<>(\n",
    "    new RankingAndCrowdingDistanceComparator<>())"
   ]
  },
  {
   "cell_type": "code",
   "execution_count": 1,
   "metadata": {},
   "outputs": [
    {
     "ename": "groovy.lang.MissingPropertyException",
     "evalue": " No such property",
     "output_type": "error",
     "traceback": [
      "\u001b[1;31mgroovy.lang.MissingPropertyException: No such property: problem for class: script1529335808303\u001b[0;0m",
      "\u001b[1;31m\tat this cell line 1\u001b[0;0m",
      "\u001b[0;31m\tat com.twosigma.beakerx.groovy.evaluator.GroovyCodeRunner.runScript(GroovyCodeRunner.java:96)\u001b[0;0m",
      "\u001b[0;31m\tat com.twosigma.beakerx.groovy.evaluator.GroovyCodeRunner.call(GroovyCodeRunner.java:61)\u001b[0;0m",
      "\u001b[0;31m\tat com.twosigma.beakerx.groovy.evaluator.GroovyCodeRunner.call(GroovyCodeRunner.java:34)\u001b[0;0m"
     ]
    }
   ],
   "source": [
    "problem"
   ]
  },
  {
   "cell_type": "code",
   "execution_count": 64,
   "metadata": {},
   "outputs": [
    {
     "data": {
      "application/vnd.jupyter.widget-view+json": {
       "model_id": "d606c3b3-2a9a-4423-a2ba-0ae1f957258d",
       "version_major": 2,
       "version_minor": 0
      },
      "method": "display_data"
     },
     "metadata": {},
     "output_type": "display_data"
    },
    {
     "name": "stderr",
     "output_type": "stream",
     "text": [
      "2018-06-11 18:57:25.970 INFO: Loggers configured with null [org.uma.jmetal.util.JMetalLogger configureLoggers]\n",
      "2018-06-11 18:57:25.986 INFO: \n",
      "Hypervolume (N) : 0.30836128370972526\n",
      "Hypervolume     : 0.33368941634588184\n",
      "Epsilon (N)     : 0.011631661115049097\n",
      "Epsilon         : 0.011416555025640207\n",
      "GD (N)          : 3.577571598145187E-4\n",
      "GD              : 3.5114110189772097E-4\n",
      "IGD (N)         : 3.0601312325556857E-4\n",
      "IGD             : 3.0035397572709233E-4\n",
      "IGD+ (N)        : 0.004284540943821492\n",
      "IGD+            : 0.004205306272331165\n",
      "Spread (N)      : 0.34545861397392885\n",
      "Spread          : 0.34545861397392913\n",
      "Error ratio     : 1.0\n",
      " [org.uma.jmetal.util.AbstractAlgorithmRunner printQualityIndicators]\n"
     ]
    },
    {
     "data": {
      "text/plain": [
       "Total execution time: 385ms"
      ]
     },
     "execution_count": 64,
     "metadata": {},
     "output_type": "execute_result"
    }
   ],
   "source": [
    "import org.uma.jmetal.algorithm.multiobjective.nsgaii.NSGAIIBuilder\n",
    "import org.uma.jmetal.util.AbstractAlgorithmRunner\n",
    "import org.uma.jmetal.util.AlgorithmRunner\n",
    "\n",
    "algorithm = new NSGAIIBuilder<>(problem, crossover, mutation)\n",
    "    .setSelectionOperator(selection)\n",
    "    .setMaxEvaluations(35000)\n",
    "    .setPopulationSize(100)\n",
    "    .build()\n",
    "\n",
    "algorithmRunner = new AlgorithmRunner.Executor(algorithm)\n",
    "    .execute()\n",
    "\n",
    "population = algorithm.getResult()\n",
    "\n",
    "referenceParetoFrontFile = \"jMetal/jmetal-core/src/main/resources/pareto_fronts/Fonseca.pf\" ;\n",
    "\n",
    "plotFronts(referenceParetoFrontFile,population)\n",
    "AbstractAlgorithmRunner.printQualityIndicators(population, referenceParetoFrontFile)\n",
    "computingTime = algorithmRunner.getComputingTime()\n",
    "\"Total execution time: \" + computingTime + \"ms\""
   ]
  }
 ],
 "metadata": {
  "kernelspec": {
   "display_name": "Groovy",
   "language": "groovy",
   "name": "groovy"
  },
  "language_info": {
   "codemirror_mode": "groovy",
   "file_extension": ".groovy",
   "mimetype": "",
   "name": "Groovy",
   "nbconverter_exporter": "",
   "version": "2.4.3"
  }
 },
 "nbformat": 4,
 "nbformat_minor": 2
}
