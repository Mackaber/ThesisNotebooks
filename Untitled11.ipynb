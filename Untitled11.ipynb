{
 "cells": [
  {
   "cell_type": "code",
   "execution_count": 8,
   "metadata": {},
   "outputs": [
    {
     "data": {
      "application/vnd.jupyter.widget-view+json": {
       "model_id": "",
       "version_major": 2,
       "version_minor": 0
      },
      "method": "display_data"
     },
     "metadata": {},
     "output_type": "display_data"
    },
    {
     "ename": "package com.google does not exist",
     "evalue": "package com.google does not exist",
     "output_type": "error",
     "traceback": [
      "\u001b[1;31mpackage com.google does not exist\u001b[0;0m",
      "\u001b[1;31m import com.google.*\u001b[0;0m",
      "\u001b[1;31m ^                   \u001b[0;0m"
     ]
    }
   ],
   "source": [
    "%classpath add mvn com.google.code.gson gson 2.3.1"
   ]
  },
  {
   "cell_type": "code",
   "execution_count": 7,
   "metadata": {},
   "outputs": [
    {
     "ename": "package com.google does not exist",
     "evalue": "package com.google does not exist",
     "output_type": "error",
     "traceback": [
      "\u001b[1;31mpackage com.google does not exist\u001b[0;0m",
      "\u001b[1;31m import com.google.*\u001b[0;0m",
      "\u001b[1;31m ^                   \u001b[0;0m"
     ]
    }
   ],
   "source": [
    "import com.google.*;"
   ]
  }
 ],
 "metadata": {
  "kernelspec": {
   "display_name": "Java",
   "language": "java",
   "name": "java"
  },
  "language_info": {
   "codemirror_mode": "text/x-java",
   "file_extension": ".java",
   "mimetype": "",
   "name": "Java",
   "nbconverter_exporter": "",
   "version": "1.8.0_121"
  }
 },
 "nbformat": 4,
 "nbformat_minor": 2
}
